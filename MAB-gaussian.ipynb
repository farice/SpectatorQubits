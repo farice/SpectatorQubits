{
 "cells": [
  {
   "cell_type": "code",
   "execution_count": 1,
   "metadata": {
    "collapsed": false,
    "inputHidden": false,
    "jupyter": {
     "outputs_hidden": false
    },
    "outputHidden": false
   },
   "outputs": [],
   "source": [
    "from qiskit import QuantumCircuit, QuantumRegister, ClassicalRegister\n",
    "from qiskit import Aer, BasicAer, execute\n",
    "from qiskit.extensions.standard.rz import RZGate\n",
    "import matplotlib.pyplot as plt\n",
    "import numpy as np\n",
    "from qutip import *\n",
    "from tqdm import trange\n",
    "\n"
   ]
  },
  {
   "cell_type": "markdown",
   "metadata": {},
   "source": [
    "For the state - determining circuit(where we mean state in the MDP and not quantum sense), we:\n",
    "- prepare in X(+1) eigenstate\n",
    "- rotate along Z axis by error theta\n",
    "- measure in Y basis\n",
    "Hence, p(+i) = cos ^ 2[(pi / 2 - theta) / 2] allowing us to distinguish between small positive and negative errors.\n",
    "Note, we cannot distinguish between rotations by(pi / 2 + eps, pi / 2 - eps). Therefore, we assume errors lie within[-pi / 2, pi / 2].\n",
    "\n"
   ]
  },
  {
   "cell_type": "code",
   "execution_count": 2,
   "metadata": {
    "collapsed": false,
    "inputHidden": false,
    "jupyter": {
     "outputs_hidden": false
    },
    "outputHidden": false
   },
   "outputs": [],
   "source": [
    "def create_spectator_context_circuit(error_theta):\n",
    "    qr = QuantumRegister(1)\n",
    "    cr = ClassicalRegister(1)\n",
    "    qc = QuantumCircuit(qr, cr)\n",
    "\n",
    "    qc.h(qr)\n",
    "\n",
    "    qc.rz(error_theta, qr)\n",
    "\n",
    "    qc.sdg(qr)\n",
    "    qc.h(qr)\n",
    "    qc.measure(qr, cr)\n",
    "\n",
    "    return qc\n",
    "\n",
    "\n",
    "# explicit update function allows us to avoid creating a new ciruit object\n",
    "# at every iteration\n",
    "def update_spectator_circuit(qc, error_theta):\n",
    "    inst, qarg, carg = qc.data[1]\n",
    "    qc.data[1] = RZGate(error_theta), qarg, carg\n",
    "\n"
   ]
  },
  {
   "cell_type": "markdown",
   "metadata": {},
   "source": [
    "For the reward - determining circuit, we:\n",
    "- prepare in X(+1) eigenstate\n",
    "- rotate along Z axis by error theta\n",
    "- measure in X basis\n",
    "Hence, p(+1) = cos ^ 2[theta / 2] allowing us to evaluation error correction reward.\n",
    "\n"
   ]
  },
  {
   "cell_type": "code",
   "execution_count": 3,
   "metadata": {
    "collapsed": false,
    "inputHidden": false,
    "jupyter": {
     "outputs_hidden": false
    },
    "outputHidden": false
   },
   "outputs": [],
   "source": [
    "def create_spectator_reward_circuit(error_theta):\n",
    "    qr = QuantumRegister(1)\n",
    "    cr = ClassicalRegister(1)\n",
    "    qc = QuantumCircuit(qr, cr)\n",
    "\n",
    "    qc.h(qr)\n",
    "\n",
    "    qc.rz(error_theta, qr)\n",
    "\n",
    "    qc.h(qr)\n",
    "    qc.measure(qr, cr)\n",
    "\n",
    "    return qc\n",
    "\n"
   ]
  },
  {
   "cell_type": "code",
   "execution_count": 4,
   "metadata": {
    "collapsed": false,
    "inputHidden": false,
    "jupyter": {
     "outputs_hidden": false
    },
    "outputHidden": false
   },
   "outputs": [
    {
     "data": {
      "text/html": [
       "<pre style=\"word-wrap: normal;white-space: pre;background: #fff0;line-height: 1.1;font-family: &quot;Courier New&quot;,Courier,monospace\">         ┌───┐┌───────────┐┌─────┐┌───┐┌─┐\n",
       "q0_0: |0>┤ H ├┤ Rz(pi/10) ├┤ Sdg ├┤ H ├┤M├\n",
       "         └───┘└───────────┘└─────┘└───┘└╥┘\n",
       " c0_0: 0 ═══════════════════════════════╩═\n",
       "                                          </pre>"
      ],
      "text/plain": [
       "<qiskit.visualization.text.TextDrawing at 0x1203f2f60>"
      ]
     },
     "execution_count": 4,
     "metadata": {},
     "output_type": "execute_result"
    }
   ],
   "source": [
    "qc = create_spectator_context_circuit(0.1 * np.pi)\n",
    "qc.draw()\n"
   ]
  },
  {
   "cell_type": "code",
   "execution_count": 5,
   "metadata": {
    "collapsed": false,
    "inputHidden": false,
    "jupyter": {
     "outputs_hidden": false
    },
    "outputHidden": false
   },
   "outputs": [
    {
     "name": "stdout",
     "output_type": "stream",
     "text": [
      "{'1': 365, '0': 635}\n",
      "{'1': 652, '0': 348}\n"
     ]
    }
   ],
   "source": [
    "qc_small_pos = create_spectator_context_circuit(0.1 * np.pi)\n",
    "qc_small_neg = create_spectator_context_circuit(-0.1 * np.pi)\n",
    "sim_pos = execute(\n",
    "    qc_small_pos, backend=BasicAer.get_backend('qasm_simulator'),\n",
    "    shots=1000)\n",
    "sim_neg = execute(\n",
    "    qc_small_neg, backend=BasicAer.get_backend('qasm_simulator'),\n",
    "    shots=1000)\n",
    "print(sim_pos.result().get_counts())\n",
    "print(sim_neg.result().get_counts())\n",
    "\n"
   ]
  },
  {
   "cell_type": "code",
   "execution_count": 6,
   "metadata": {
    "collapsed": false,
    "inputHidden": false,
    "jupyter": {
     "outputs_hidden": false
    },
    "outputHidden": false
   },
   "outputs": [],
   "source": [
    "# (action, reward) distribution for a given state\n",
    "# in particular, we have two states: V0, V1\n",
    "# @jitclass(spec)\n",
    "class MDPNode:\n",
    "    def __init__(self, num_arms):\n",
    "        # action set\n",
    "        self.thetas = 0.02 * np.pi * np.linspace(-1, 1, num_arms)\n",
    "        # correspondingly indexed (reward | state, action) set\n",
    "        # samples from beta(S, F) distribution\n",
    "        self.estimated_rewards = np.ones(num_arms, dtype=np.float64)\n",
    "        # (successes | arm)\n",
    "        self.S = np.ones(num_arms, dtype=np.int)\n",
    "        # (failures | arm)\n",
    "        self.F = np.ones(num_arms, dtype=np.int)\n",
    "\n",
    "    def resample_rewards(self):\n",
    "        # estimated_rewards is drawn from beta(S, F) distribution for each arm\n",
    "        # which enables exploration\n",
    "        for i in range(len(self.estimated_rewards)):\n",
    "            self.estimated_rewards[i] = np.random.beta(self.S[i], self.F[i])\n",
    "\n",
    "    def optimal_theta(self):\n",
    "        return self.thetas[np.argmax(self.estimated_rewards)]\n",
    "\n",
    "    def success(self):\n",
    "        # update assuming success occurred when pulling currently optimal arm\n",
    "        arm = np.argmax(self.estimated_rewards)\n",
    "        self.S[arm] += 1\n",
    "\n",
    "    def failure(self):\n",
    "        arm = np.argmax(self.estimated_rewards)\n",
    "        self.F[arm] += 1\n",
    "\n"
   ]
  },
  {
   "cell_type": "code",
   "execution_count": 7,
   "metadata": {
    "collapsed": false,
    "inputHidden": false,
    "jupyter": {
     "outputs_hidden": false
    },
    "outputHidden": false
   },
   "outputs": [],
   "source": [
    "def mab(error_samples, num_arms=11):\n",
    "    N = len(error_samples)\n",
    "    outcomes = np.zeros(N)\n",
    "    V0 = MDPNode(num_arms)\n",
    "    V1 = MDPNode(num_arms)\n",
    "\n",
    "    process_fidelity_corrected = np.zeros(N)\n",
    "    process_fidelity_noop = np.zeros(N)\n",
    "\n",
    "    spectator_context_qc = create_spectator_context_circuit(0)\n",
    "    spectator_reward_qc = create_spectator_reward_circuit(0)\n",
    "    for i in trange(N):\n",
    "        update_spectator_circuit(spectator_context_qc, error_samples[i])\n",
    "\n",
    "        # context measurement separates positive from negative rotations\n",
    "        # if the rotation is +pi/4 we will draw 0 w.p. 1\n",
    "        sim_1 = execute(\n",
    "            spectator_context_qc, backend=BasicAer.get_backend(\n",
    "                'qasm_simulator'),\n",
    "            shots=1)\n",
    "        outcome_1 = int(\n",
    "            list(sim_1.result().get_counts().keys())[0]\n",
    "        )\n",
    "        outcomes[i] = outcome_1\n",
    "\n",
    "        # contextual multi-arm bandit\n",
    "        context = V0 if outcome_1 == 0 else V1\n",
    "        # estimated rewards for arms are redrawn using Beta(#success, #failure)\n",
    "        context.resample_rewards()\n",
    "        correction_theta = context.optimal_theta()\n",
    "\n",
    "        # rotations along the same axis commute\n",
    "        update_spectator_circuit(spectator_reward_qc,\n",
    "                                 error_samples[i] + correction_theta)\n",
    "        sim_2 = execute(\n",
    "            spectator_reward_qc,\n",
    "            backend=BasicAer.get_backend('qasm_simulator'), shots=1)\n",
    "        outcome_2 = int(\n",
    "            list(sim_2.result().get_counts().keys())[0]\n",
    "        )\n",
    "\n",
    "        # if the correction is perfect then the reward measurement is 0 w.p. 1\n",
    "        # the underlying distribution we are sampling is monotonic in fidelity\n",
    "        if (outcome_2 == 0):\n",
    "            context.success()\n",
    "        else:\n",
    "            context.failure()\n",
    "\n",
    "        process_fidelity_corrected[i] = rz(\n",
    "            error_samples[i] + correction_theta).tr() / 2\n",
    "        process_fidelity_noop[i] = rz(error_samples[i]).tr() / 2\n",
    "\n",
    "    return (V0, V1,\n",
    "            process_fidelity_corrected, process_fidelity_noop, outcomes)\n",
    "\n"
   ]
  },
  {
   "cell_type": "code",
   "execution_count": 14,
   "metadata": {
    "collapsed": false,
    "inputHidden": false,
    "jupyter": {
     "outputs_hidden": false
    },
    "outputHidden": false
   },
   "outputs": [
    {
     "name": "stderr",
     "output_type": "stream",
     "text": [
      "100%|██████████| 50000/50000 [09:58<00:00, 83.57it/s]\n"
     ]
    }
   ],
   "source": [
    "# unif [-alpha, alpha]\n",
    "mu_list = np.pi * np.array([0.01])\n",
    "sigma_list = np.pi * np.array([0.01])\n",
    "\n",
    "V0_sequence, V1_sequence = [], []\n",
    "outcomes_sequence = []\n",
    "fid_corrected_sequence, fid_noop_sequence = [], []\n",
    "\n",
    "N = 50000\n",
    "for mu, sigma in zip(mu_list, sigma_list):\n",
    "    error_samples = np.random.normal(mu, sigma, N)\n",
    "    V0, V1, fid_corrected, fid_noop, outcomes = mab(error_samples)\n",
    "\n",
    "    V0_sequence.append(V0)\n",
    "    V1_sequence.append(V1)\n",
    "    outcomes_sequence.append(outcomes)\n",
    "    fid_corrected_sequence.append(fid_corrected)\n",
    "    fid_noop_sequence.append(fid_noop)\n",
    "\n"
   ]
  },
  {
   "cell_type": "code",
   "execution_count": 15,
   "metadata": {
    "collapsed": false,
    "inputHidden": false,
    "jupyter": {
     "outputs_hidden": false
    },
    "outputHidden": false
   },
   "outputs": [
    {
     "name": "stdout",
     "output_type": "stream",
     "text": [
      "estimated arm reward given positive rotation context:\n",
      "[0.99968748 0.99934915 0.99991933 0.99903898 0.99862973 0.98679394\n",
      " 0.99947057 0.9995992  0.99954519 0.98824507 0.99579215]\n",
      "given positive rotation context:\n",
      "[0.99813746 0.99636785 0.99889545 0.99947206 0.99757111 0.99941245\n",
      " 0.99717083 0.99896989 0.944854   0.99877386 0.99773078]\n",
      "\n",
      "\n",
      "average fidelity with correction:  0.9997047982317848\n",
      "without correction:  0.9997520653961356\n"
     ]
    }
   ],
   "source": [
    "print(\"estimated arm reward given positive rotation context:\")\n",
    "print(V0_sequence[0].estimated_rewards)\n",
    "print(\"given positive rotation context:\")\n",
    "print(V1_sequence[0].estimated_rewards)\n",
    "\n",
    "print(\"\\n\")\n",
    "\n",
    "print(\"average fidelity with correction: \", np.mean(fid_corrected_sequence[0]))\n",
    "print(\"without correction: \", np.mean(fid_noop_sequence[0]))\n",
    "\n"
   ]
  },
  {
   "cell_type": "code",
   "execution_count": 16,
   "metadata": {
    "collapsed": false,
    "inputHidden": false,
    "jupyter": {
     "outputs_hidden": false
    },
    "outputHidden": false
   },
   "outputs": [
    {
     "data": {
      "image/png": "[encoded data removed]",
      "text/plain": [
       "<Figure size 432x288 with 1 Axes>"
      ]
     },
     "metadata": {
      "needs_background": "light"
     },
     "output_type": "display_data"
    }
   ],
   "source": [
    "idx = np.linspace(1, N, N)\n",
    "plt.figure()\n",
    "plt.title(\"Gaussian(pi/100, pi/200)\")\n",
    "plt.plot(idx, fid_noop_sequence[0], 'r.', idx, fid_corrected_sequence[0], 'g.')\n",
    "plt.show()"
   ]
  },
  {
   "cell_type": "code",
   "execution_count": null,
   "metadata": {},
   "outputs": [],
   "source": []
  }
 ],
 "metadata": {
  "kernelspec": {
   "display_name": "Python 3",
   "language": "python",
   "name": "python3"
  },
  "language_info": {
   "codemirror_mode": {
    "name": "ipython",
    "version": 3
   },
   "file_extension": ".py",
   "mimetype": "text/x-python",
   "name": "python",
   "nbconvert_exporter": "python",
   "pygments_lexer": "ipython3",
   "version": "3.6.4"
  }
 },
 "nbformat": 4,
 "nbformat_minor": 4
}
