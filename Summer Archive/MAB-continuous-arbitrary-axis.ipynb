{
 "cells": [
  {
   "cell_type": "code",
   "execution_count": 1,
   "metadata": {
    "collapsed": false,
    "inputHidden": false,
    "jupyter": {
     "outputs_hidden": false
    },
    "outputHidden": false
   },
   "outputs": [],
   "source": [
    "# import gym\n",
    "import numpy as np\n",
    "\n",
    "import torch\n",
    "import torch.nn as nn\n",
    "import torch.nn.functional as F\n",
    "import torch.optim as optim\n",
    "\n",
    "from IPython.display import clear_output\n",
    "from matplotlib import pyplot as plt\n",
    "\n",
    "from timeit import default_timer as timer\n",
    "from datetime import timedelta\n",
    "\n",
    "import math\n",
    "import random\n",
    "\n",
    "from qutip import Bloch, Bloch3d, basis\n",
    "from qutip.qip.operations import rz"
   ]
  },
  {
   "cell_type": "code",
   "execution_count": 2,
   "metadata": {},
   "outputs": [],
   "source": [
    "%matplotlib inline\n",
    "%load_ext autoreload\n",
    "%autoreload 2"
   ]
  },
  {
   "cell_type": "code",
   "execution_count": 3,
   "metadata": {},
   "outputs": [],
   "source": [
    "def plot(axs, frame_idx, rewards, losses, sigma, contextual_bias, mu, elapsed_time):\n",
    "    axs[0].set_title('frame %s. reward: %s. time: %s' % (frame_idx, np.mean(rewards[-10:]), elapsed_time))\n",
    "    axs[0].plot(rewards)\n",
    "    if losses and sigma:\n",
    "        axs[1].set_title('fidelity')\n",
    "        axs[1].plot(losses, 'g')\n",
    "        axs[1].plot(sigma, 'r')\n",
    "    if contextual_bias:\n",
    "        axs[2].set_title('contextual_bias')\n",
    "        axs[2].plot(contextual_bias)\n",
    "        axs[2].axhline(y=mu, color='g', linestyle='-')"
   ]
  },
  {
   "cell_type": "code",
   "execution_count": 4,
   "metadata": {},
   "outputs": [],
   "source": [
    "def bloch_viz(b, error_samples, error_draw, contextual_bias, correction):  \n",
    "    b.clear()\n",
    "    error_samples = np.random.choice(error_samples, 100)\n",
    "    kets = [rz(error_sample) * (basis(2, 0) + basis(2, 1)).unit() for error_sample in error_samples]\n",
    "    b.add_states(kets, \"point\")\n",
    "    b.add_states([\n",
    "        rz(error_draw) * (basis(2, 0) + basis(2, 1)).unit(),\n",
    "        rz(-contextual_bias) * (basis(2, 0) + basis(2, 1)).unit(),\n",
    "        rz(-correction) * (basis(2, 0) + basis(2, 1)).unit()\n",
    "        ])\n",
    "    b.point_color = [\"r\"]\n",
    "    b.show()"
   ]
  },
  {
   "cell_type": "code",
   "execution_count": 5,
   "metadata": {},
   "outputs": [],
   "source": [
    "# (action, reward) distribution for a given \"spectator measurement outcome\" state\n",
    "class Context:\n",
    "    def __init__(self, gamma, delta, eta):\n",
    "        # discount factor\n",
    "        self.gamma = gamma\n",
    "        self.delta = delta\n",
    "        self.eta = eta\n",
    "\n",
    "        self.gradients = []\n",
    "        self.current_theta = [0, 0, 0]\n",
    "\n",
    "    def reset(self):\n",
    "        self.gradients = []\n",
    "\n",
    "    def discount(self):\n",
    "        pass\n",
    "\n",
    "    def update_gamma(self, gamma):\n",
    "        self.gamma = gamma\n",
    "\n",
    "    def update_optimal_theta(self, reward, direction):\n",
    "        reward_lo, reward_hi = reward\n",
    "        self.gradients.append((reward_hi - reward_lo ) * direction)\n",
    "\n",
    "    def get_and_combine_optimal_theta(self, num_reward_spectators):\n",
    "        if len(self.gradients) == 0:\n",
    "            return self.current_theta\n",
    "        self.current_theta += self.eta * np.mean(self.gradients, axis=0) / (2 * self.delta * num_reward_spectators)\n",
    "        self.reset()\n",
    "        return self.current_theta\n",
    "\n",
    "    def get_optimal_theta(self):\n",
    "        return self.current_theta"
   ]
  },
  {
   "cell_type": "code",
   "execution_count": 6,
   "metadata": {},
   "outputs": [],
   "source": [
    "# contextual mirror descent\n",
    "class MD2D:\n",
    "    def __init__(self, env, initial_gamma=0.99, eta=np.pi/64, delta=np.pi/64):\n",
    "        # two contexts -> pos vs neg rotation with respect to a chosen rotational bias\n",
    "        self.contexts = [Context(initial_gamma, delta, eta), Context(initial_gamma, delta, eta)]\n",
    "\n",
    "        self.rewards = []\n",
    "        self.fidelity = []\n",
    "        self.control_fidelity = []\n",
    "        self.contextual_biases = []\n",
    "\n",
    "        self.num_context_spectators = env.num_context_spectators\n",
    "        self.num_reward_spectators = env.num_reward_spectators\n",
    "\n",
    "        self.action_contextual_bias = [0, 0, 0]\n",
    "\n",
    "        # step size\n",
    "        self.eta = eta\n",
    "        # smoothing\n",
    "        self.delta = delta\n",
    "\n",
    "    def get_actions(self, observations):\n",
    "        # our context is an array of binary spectator qubit measurements\n",
    "        # hence, we could convert this binary array to an integer and index 2^(spectator qubits) contexts\n",
    "        # context = self.contexts[np.packbits(observation, bitorder='little')[0]] \n",
    "        # for now, we only have two contexts (+ vs -), and so we consider spectators to be indistinguishable noise polling devices\n",
    "        # in the future, we may consider noise gradients and so we do indeed need to track the specific arrangement\n",
    "\n",
    "        actions = []\n",
    "        for observation in observations:\n",
    "            context_idx = 1 if np.sum(observation) > self.num_context_spectators / 2 else 0\n",
    "            context = self.contexts[context_idx]\n",
    "\n",
    "            ## to update the gamma or action space, use the functions below e.g. _update_action_distribution_width\n",
    "            ## this will ensure that the contextual history is reset once the historical correspondence between arms and particular thetas is nullified\n",
    "\n",
    "            # euclidean unit (half-)ball sample\n",
    "            direction = np.random.uniform(0,1,3)\n",
    "            # direction = np.array([0, 0, 1])\n",
    "            while np.linalg.norm(direction) > 1:\n",
    "                direction = np.random.uniform(0,1,3)\n",
    "\n",
    "            # (theta, direction, smoothing parameter, rotational bias)\n",
    "            actions.append((context.get_and_combine_optimal_theta(self.num_reward_spectators // 2), direction, self.delta, self.action_contextual_bias))\n",
    "        return actions\n",
    "\n",
    "    def update(self, actions, rewards, observations):\n",
    "        for context in self.contexts:\n",
    "            context.reset()\n",
    "\n",
    "        for action, reward, observation in zip(actions, rewards, observations):\n",
    "            _, direction, _, _ = action\n",
    "            context_idx = 1 if np.sum(observation) > self.num_context_spectators / 2 else 0\n",
    "            context = self.contexts[context_idx]\n",
    "            context.update_optimal_theta(reward, direction)\n",
    "\n",
    "    def _update_gammas(self, gamma):\n",
    "        for context in self.contexts:\n",
    "            context.update_gamma(gamma)\n",
    "\n",
    "    def update_contextual_bias(self):\n",
    "        self.action_contextual_bias = np.mean([self.contexts[0].current_theta, self.contexts[1].current_theta], axis=0)\n",
    "        for context in self.contexts:\n",
    "            context.reset()\n",
    "\n",
    "    def save_contextual_bias(self, contextual_bias):\n",
    "        self.contextual_biases.append(contextual_bias)\n",
    "\n",
    "    def save_reward(self, reward):\n",
    "        self.rewards.append(reward)\n",
    "\n",
    "    def save_fidelity(self, fidelity):\n",
    "        self.fidelity.append(fidelity)\n",
    "\n",
    "    def save_control_fidelity(self, fidelity):\n",
    "        self.control_fidelity.append(fidelity)"
   ]
  },
  {
   "cell_type": "code",
   "execution_count": 7,
   "metadata": {},
   "outputs": [],
   "source": [
    "M = 1000\n",
    "BATCH_SIZE = 100\n",
    "BATCHES_PER_CONTEXT_UPDATE = 10\n",
    "\n",
    "MU = np.pi / 16\n",
    "SIGMA = np.pi / 8\n",
    "\n",
    "# add some random harmonics\n",
    "# time_dependent_fn = np.vectorize(lambda x: (2/5) * np.pi * np.sin(2 * np.pi * x / M))\n",
    "error_samples = np.random.normal(MU, SIGMA, M) # + time_dependent_fn(np.arange(M))\n",
    "# error_samples = np.random.choice([-np.pi/4, np.pi / 4], M)"
   ]
  },
  {
   "cell_type": "code",
   "execution_count": 8,
   "metadata": {},
   "outputs": [],
   "source": [
    "from spectator_env import SpectatorEnvContinuous\n",
    "\n",
    "# describes MDP\n",
    "# - states are given in terms of a #context_spectators bit measurement outcomes\n",
    "# - continuous action space is given by ([-pi, pi], smoothing parameter, contextual_measurement_bias) i.e. \\U(1) \\times U(1) \\times U(1)\n",
    "env = SpectatorEnvContinuous(error_samples, batch_size=BATCH_SIZE, num_context_spectators=64, num_reward_spectators=64, context_sensitivity=2.0, reward_sensitivity=2.0)\n"
   ]
  },
  {
   "cell_type": "code",
   "execution_count": 9,
   "metadata": {},
   "outputs": [
    {
     "data": {
      "image/png": "[encoded data removed]",
      "text/plain": [
       "<Figure size 1440x360 with 3 Axes>"
      ]
     },
     "metadata": {
      "needs_background": "light"
     },
     "output_type": "display_data"
    }
   ],
   "source": [
    "start = timer()\n",
    "\n",
    "md = MD2D(env, initial_gamma=1.0, eta=np.pi/8, delta=np.pi/64)\n",
    "\n",
    "episode_reward = 0\n",
    "episode_fidelity = []\n",
    "control_fidelity = []\n",
    "\n",
    "MAX_FRAMES = 10 * M // BATCH_SIZE\n",
    "UPDATE_ERROR_SAMPLES_FRAMES = M // BATCH_SIZE\n",
    "\n",
    "PLOT_BLOCH = False\n",
    "PLOT_REWARD = True\n",
    "\n",
    "# \"episodes\" are a reasonable way to think about learning a periodic time dependent function\n",
    "# max frames = episode length * num episodes\n",
    "# episodes are identical sequences of training data\n",
    "observation = env.reset()\n",
    "\n",
    "for frame_idx in range(1, MAX_FRAMES + 1):\n",
    "    # epsilon = config.epsilon_by_frame(frame_idx)\n",
    "\n",
    "    if frame_idx % BATCHES_PER_CONTEXT_UPDATE == 0:\n",
    "        md.update_contextual_bias()\n",
    "        md.save_contextual_bias(md.action_contextual_bias)\n",
    "\n",
    "    actions = md.get_actions(observation)\n",
    "    prev_batch = env.error_samples_batch\n",
    "    prev_observation=observation\n",
    "    observation, reward, done, info = env.step(actions)\n",
    "    observation = None if done else observation\n",
    "\n",
    "    # generally, in RL we would consider r(s | s', a)\n",
    "    # given a state transition s' -> s due to action a\n",
    "    # for now, we are only interested in r(s', a)\n",
    "    md.update(actions, reward, prev_observation)\n",
    "    episode_reward += np.sum(reward)\n",
    "\n",
    "    for x, y in info:\n",
    "        episode_fidelity.append(x)\n",
    "        control_fidelity.append(y)\n",
    "\n",
    "    if UPDATE_ERROR_SAMPLES_FRAMES:\n",
    "        new_error_samples = np.random.normal(MU, SIGMA, M)\n",
    "        env.set_error_samples(new_error_samples)\n",
    "\n",
    "    if done:\n",
    "        if PLOT_BLOCH or PLOT_REWARD:\n",
    "            clear_output(True)\n",
    "        if PLOT_BLOCH:\n",
    "            bloch_viz(b, env.error_samples, prev_batch[0], md.action_contextual_bias, actions[0][0])\n",
    "        if PLOT_REWARD and len(md.rewards) > 0 and len(md.fidelity) > 0 and len(md.contextual_biases) > 0:\n",
    "            fig, axs = plt.subplots(1, 3, figsize=(20,5))\n",
    "            plot(axs, frame_idx, md.rewards, md.fidelity, md.control_fidelity, md.contextual_biases, -MU,\n",
    "                timedelta(seconds=int(timer()-start)))\n",
    "            plt.show()\n",
    "\n",
    "        observation = env.reset()\n",
    "        md.save_reward(episode_reward)\n",
    "        md.save_fidelity(np.mean(episode_fidelity))\n",
    "        md.save_control_fidelity(np.mean(control_fidelity))\n",
    "        episode_reward = 0\n",
    "        episode_fidelity = []\n",
    "        control_fidelity = []\n",
    "\n",
    "env.close()\n",
    "\n"
   ]
  },
  {
   "cell_type": "code",
   "execution_count": 10,
   "metadata": {},
   "outputs": [
    {
     "name": "stdout",
     "output_type": "stream",
     "text": [
      "-0.13928068662033852\n"
     ]
    }
   ],
   "source": [
    "print(np.mean(md.contextual_biases))"
   ]
  },
  {
   "cell_type": "raw",
   "metadata": {},
   "source": [
    "print(md.contexts[0].get_optimal_theta())\n"
   ]
  },
  {
   "cell_type": "code",
   "execution_count": 11,
   "metadata": {},
   "outputs": [
    {
     "name": "stdout",
     "output_type": "stream",
     "text": [
      "[-0.54754075 -0.36648637 -0.71474008]\n"
     ]
    }
   ],
   "source": [
    "print(md.contexts[1].get_optimal_theta())"
   ]
  },
  {
   "cell_type": "code",
   "execution_count": 12,
   "metadata": {},
   "outputs": [
    {
     "name": "stdout",
     "output_type": "stream",
     "text": [
      "[-0.21649348 -0.17622204 -0.19074786] 0.19634954084936207\n"
     ]
    }
   ],
   "source": [
    "print(md.action_contextual_bias, MU)"
   ]
  },
  {
   "cell_type": "code",
   "execution_count": null,
   "metadata": {},
   "outputs": [],
   "source": []
  },
  {
   "cell_type": "code",
   "execution_count": null,
   "metadata": {},
   "outputs": [],
   "source": []
  }
 ],
 "metadata": {
  "kernelspec": {
   "display_name": "Python 3",
   "language": "python",
   "name": "python3"
  },
  "language_info": {
   "codemirror_mode": {
    "name": "ipython",
    "version": 3
   },
   "file_extension": ".py",
   "mimetype": "text/x-python",
   "name": "python",
   "nbconvert_exporter": "python",
   "pygments_lexer": "ipython3",
   "version": "3.7.4"
  }
 },
 "nbformat": 4,
 "nbformat_minor": 4
}
