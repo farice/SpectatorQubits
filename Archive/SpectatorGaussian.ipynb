{
 "cells": [
  {
   "cell_type": "code",
   "execution_count": 1,
   "metadata": {},
   "outputs": [],
   "source": [
    "from qiskit import QuantumCircuit, QuantumRegister, ClassicalRegister\n",
    "from qiskit import Aer, BasicAer, execute\n",
    "import matplotlib.pyplot as plt\n",
    "import numpy as np\n",
    "from qiskit.quantum_info import process_fidelity\n",
    "%matplotlib inline"
   ]
  },
  {
   "cell_type": "markdown",
   "metadata": {},
   "source": [
    "Theta_0 and theta_1 are the small corrections derived analyticaly for an arbitary gaussian distribution. \n",
    "Basically we are considering correcting z type errors, we prepare in |+> state, apply our gate (error) and make a single measurement in y basis. Repeat this process for different outocmes of the same distribution. Spectator outcome is basicaly an array of 0's and 1's corresponding to the measurements. If we get 0 on the spectator, we apply correction=exp(theta_0*sz) and if we get 1 we apply correction=exp(theta_1*sz) to the data. \n",
    "Then we calculate the process fidelity between error*correction (this is abuse of notation, I just mean the resulting channel we gate by composing the error and our correction) and identity gate. "
   ]
  },
  {
   "cell_type": "code",
   "execution_count": 3,
   "metadata": {},
   "outputs": [],
   "source": [
    "\n",
    "def spec1qubit(mu,sigma=0.1,N=1000):\n",
    "    error = np.random.normal(mu,sigma,N)\n",
    "    theta_0=-0.5*np.arctan((np.exp(-2*sigma**2)*np.sin(2*mu)-0.5+0.5*np.exp(-8*sigma**2)*np.cos(4*mu))/(np.exp(-2*sigma**2)*np.cos(2*mu)-0.25*np.exp(-8*sigma**2)*np.sin(4**mu)))\n",
    "    theta_1=-0.5*np.arctan((np.exp(-2*sigma**2)*np.sin(2*mu)-0.5+0.5*np.exp(-8*sigma**2)*np.cos(4*mu))/(np.exp(-2*sigma**2)*np.cos(2*mu)+0.25*np.exp(-8*sigma**2)*np.sin(4*mu)))\n",
    "    theta_approx=(2/3)*alpha**2\n",
    "    outcome=np.zeros((N))\n",
    "    for i in range(N):\n",
    "        qr=QuantumRegister(1)\n",
    "        cr=ClassicalRegister(1)\n",
    "        specQ=QuantumCircuit(qr,cr)\n",
    "        specQ.h(qr[0])\n",
    "        specQ.rz(-2*error[i],qr[0])\n",
    "        specQ.sdg(qr[0])\n",
    "        specQ.h(qr[0])\n",
    "        specQ.measure(qr[0],cr[0])\n",
    "        temp_1=execute(specQ,backend=BasicAer.get_backend('qasm_simulator'),shots=1)\n",
    "        temp_2=[*temp_1.result().get_counts().keys()]\n",
    "        temp_3=int(temp_2[0])\n",
    "        outcome[i]=temp_3\n",
    "    si=np.array([[1,0],[0,1]])\n",
    "    sz=np.array([[1,0],[0,-1]])\n",
    "    def szerror(theta):\n",
    "        return np.cos(theta)*si+1.j*np.sin(theta)*sz\n",
    "    processfid=np.zeros((N))\n",
    "    processfid_nocorrection=np.zeros((N))\n",
    "    for i in range(N):\n",
    "        if (outcome[i]==0):\n",
    "            equiv=np.matmul(szerror(error[i]),szerror(theta_0))\n",
    "            processfid[i]=process_fidelity(equiv,si)\n",
    "        elif (outcome[i]==1):\n",
    "            equiv=np.matmul(szerror(error[i]),szerror(theta_1))\n",
    "            processfid[i]=process_fidelity(equiv,si)\n",
    "        processfid_nocorrection[i]=process_fidelity(szerror(error[i]),si)\n",
    "    return np.mean(processfid), np.mean(processfid_nocorrection)"
   ]
  },
  {
   "cell_type": "markdown",
   "metadata": {},
   "source": [
    "Run it for fixed sigma but varying mu and plot avg gate fidelity vs mu. "
   ]
  },
  {
   "cell_type": "code",
   "execution_count": 4,
   "metadata": {},
   "outputs": [
    {
     "name": "stderr",
     "output_type": "stream",
     "text": [
      "/usr/lib/python3/dist-packages/ipykernel_launcher.py:30: ComplexWarning: Casting complex values to real discards the imaginary part\n",
      "/usr/lib/python3/dist-packages/ipykernel_launcher.py:34: ComplexWarning: Casting complex values to real discards the imaginary part\n",
      "/usr/lib/python3/dist-packages/ipykernel_launcher.py:33: ComplexWarning: Casting complex values to real discards the imaginary part\n"
     ]
    }
   ],
   "source": [
    "n=21\n",
    "\n",
    "alpha=np.linspace(0.01,0.9,n)\n",
    "processfid_final=np.zeros((len(alpha)))\n",
    "processfid_final_nocorrection=np.zeros((len(alpha)))\n",
    "for i in range(n):\n",
    "    processfid_final[i],processfid_final_nocorrection[i] =spec1qubit(alpha[i])"
   ]
  },
  {
   "cell_type": "code",
   "execution_count": 5,
   "metadata": {},
   "outputs": [
    {
     "data": {
      "text/plain": [
       "[<matplotlib.lines.Line2D at 0x7f083ea11080>,\n",
       " <matplotlib.lines.Line2D at 0x7f083ea11208>]"
      ]
     },
     "execution_count": 5,
     "metadata": {},
     "output_type": "execute_result"
    },
    {
     "data": {
      "image/png": "[encoded data removed]",
      "text/plain": [
       "<Figure size 432x288 with 1 Axes>"
      ]
     },
     "metadata": {},
     "output_type": "display_data"
    }
   ],
   "source": [
    "plt.plot(alpha,processfid_final,'g.',alpha,processfid_final_nocorrection,'r.')"
   ]
  },
  {
   "cell_type": "markdown",
   "metadata": {},
   "source": [
    "Plot looks pretty good until like mu=0.75 don't what's happening after that. Need to check my analytical calculations maybe."
   ]
  },
  {
   "cell_type": "code",
   "execution_count": 18,
   "metadata": {},
   "outputs": [],
   "source": [
    "si=np.array([[1,0],[0,1]])\n",
    "sy=np.array([[0,-1j],[1j,0]])\n",
    "sz=np.array([[1,0],[0,-1]])\n",
    "sx=np.array([[0,1],[1,0]])\n",
    "zero=np.array([1,0])"
   ]
  },
  {
   "cell_type": "code",
   "execution_count": 19,
   "metadata": {},
   "outputs": [],
   "source": [
    "a=np.matmul(sy,zero)\n",
    "b=np.matmul(a,sz)"
   ]
  },
  {
   "cell_type": "code",
   "execution_count": 20,
   "metadata": {},
   "outputs": [
    {
     "data": {
      "text/plain": [
       "array([0.+0.j, 0.-1.j])"
      ]
     },
     "execution_count": 20,
     "metadata": {},
     "output_type": "execute_result"
    }
   ],
   "source": [
    "b"
   ]
  },
  {
   "cell_type": "code",
   "execution_count": null,
   "metadata": {},
   "outputs": [],
   "source": []
  }
 ],
 "metadata": {
  "kernelspec": {
   "display_name": "Python 3",
   "language": "python",
   "name": "python3"
  },
  "language_info": {
   "codemirror_mode": {
    "name": "ipython",
    "version": 3
   },
   "file_extension": ".py",
   "mimetype": "text/x-python",
   "name": "python",
   "nbconvert_exporter": "python",
   "pygments_lexer": "ipython3",
   "version": "3.6.8"
  }
 },
 "nbformat": 4,
 "nbformat_minor": 2
}
