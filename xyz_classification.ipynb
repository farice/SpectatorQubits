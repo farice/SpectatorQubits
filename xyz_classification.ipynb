{
 "cells": [
  {
   "cell_type": "code",
   "execution_count": null,
   "metadata": {},
   "outputs": [],
   "source": [
    "# disable warning\n",
    "import os; os.environ['PYGSTI_BACKCOMPAT_WARNING'] = '0'\n",
    "\n",
    "import pygsti\n",
    "import numpy as np\n",
    "\n",
    "import matplotlib.pyplot as plt\n",
    "\n",
    "ws = pygsti.report.Workspace()\n",
    "ws.init_notebook_mode(autodisplay=True)"
   ]
  },
  {
   "cell_type": "markdown",
   "metadata": {},
   "source": [
    "Consider the CPTP map given by\n",
    "\n",
    "$$\n",
    "\\varepsilon(\\rho) = \\kappa [e^{i\\theta(\\cos \\phi X + \\sin \\phi Y)}\\rho e^{-i\\theta(\\cos \\phi X + \\sin \\phi Y)}] + (1 - \\kappa) [\\cos^2 \\theta \\rho + \\sin^2\\theta [cos^2 \\phi X \\rho X + \\sin^2 \\phi Y \\rho Y]]\n",
    "$$\n",
    "\n",
    "where $0 \\leq \\kappa \\leq 1$.\n",
    "\n",
    "First, define\n",
    "\n",
    "$$\n",
    "U = e^{i\\theta(\\cos \\phi X + \\sin \\phi Y)}\n",
    "$$\n",
    "\n",
    "and observe that it is a unitary transformation. Recall that trace is preserved under conjugation by cyclicity of trace. So, using the aforementioned and linearity of trace\n",
    "\n",
    "$$\n",
    "Tr[\\varepsilon(\\rho)] = \\kappa(Tr[U\\rho U^\\dagger]) + (1-\\kappa)[\\cos^2 \\theta Tr[\\rho] + \\sin^2 \\theta[cos^2 \\phi Tr[X \\rho X] + \\sin^2 \\phi Tr[Y\\rho Y]]] \\\\\n",
    "= \\kappa(Tr[\\rho]) + (1-\\kappa)[\\cos^2 \\theta Tr[\\rho] + \\sin^2 \\theta[cos^2 \\phi Tr[\\rho] + \\sin^2 \\phi Tr[\\rho]]] \\\\\n",
    "= \\kappa(Tr[\\rho]) + (1 - \\kappa) [(\\cos^2 \\theta + \\sin^2 \\theta) Tr[\\rho]] \\\\\n",
    "= Tr[\\rho]\n",
    "$$"
   ]
  },
  {
   "cell_type": "code",
   "execution_count": 1,
   "metadata": {},
   "outputs": [],
   "source": [
    "import qiskit"
   ]
  },
  {
   "cell_type": "code",
   "execution_count": null,
   "metadata": {},
   "outputs": [],
   "source": []
  }
 ],
 "metadata": {
  "kernelspec": {
   "display_name": "Python 3",
   "language": "python",
   "name": "python3"
  },
  "language_info": {
   "name": ""
  }
 },
 "nbformat": 4,
 "nbformat_minor": 2
}
