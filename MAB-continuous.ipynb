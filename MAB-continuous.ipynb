{
 "cells": [
  {
   "cell_type": "code",
   "execution_count": 8,
   "metadata": {
    "collapsed": false,
    "inputHidden": false,
    "jupyter": {
     "outputs_hidden": false
    },
    "outputHidden": false
   },
   "outputs": [],
   "source": [
    "import gym\n",
    "import numpy as np\n",
    "\n",
    "import torch\n",
    "import torch.nn as nn\n",
    "import torch.nn.functional as F\n",
    "import torch.optim as optim\n",
    "\n",
    "from IPython.display import clear_output\n",
    "from matplotlib import pyplot as plt\n",
    "\n",
    "from timeit import default_timer as timer\n",
    "from datetime import timedelta\n",
    "\n",
    "import math\n",
    "import random"
   ]
  },
  {
   "cell_type": "code",
   "execution_count": 9,
   "metadata": {},
   "outputs": [
    {
     "name": "stdout",
     "output_type": "stream",
     "text": [
      "The autoreload extension is already loaded. To reload it, use:\n",
      "  %reload_ext autoreload\n"
     ]
    }
   ],
   "source": [
    "%matplotlib inline\n",
    "%load_ext autoreload\n",
    "%autoreload 2"
   ]
  },
  {
   "cell_type": "code",
   "execution_count": 72,
   "metadata": {},
   "outputs": [],
   "source": [
    "def plot(frame_idx, rewards, losses, sigma, elapsed_time):\n",
    "    clear_output(True)\n",
    "    plt.figure(figsize=(20,5))\n",
    "    plt.subplot(121)\n",
    "    plt.title('frame %s. reward: %s. time: %s' % (frame_idx, np.mean(rewards[-10:]), elapsed_time))\n",
    "    plt.plot(rewards)\n",
    "    if losses or sigma:\n",
    "        plt.subplot(122)\n",
    "        plt.title('fidelity')\n",
    "    if losses:\n",
    "        plt.plot(losses, 'g')\n",
    "    if sigma:\n",
    "        plt.plot(sigma, 'r')\n",
    "    plt.show()"
   ]
  },
  {
   "cell_type": "code",
   "execution_count": 73,
   "metadata": {},
   "outputs": [],
   "source": [
    "# (action, reward) distribution for a given \"spectator measurement outcome\" state\n",
    "class Context:\n",
    "    def __init__(self, gamma, delta, eta):\n",
    "        # discount factor\n",
    "        self.gamma = gamma\n",
    "        self.delta = delta\n",
    "        self.eta = eta\n",
    "\n",
    "        self.gradients = []\n",
    "        self.current_theta = 0\n",
    "\n",
    "    def reset(self):\n",
    "        self.gradients = []\n",
    "\n",
    "    def discount(self):\n",
    "        pass\n",
    "\n",
    "    def update_gamma(self, gamma):\n",
    "        self.gamma = gamma\n",
    "\n",
    "    def update_optimal_theta(self, reward):\n",
    "        reward_lo, reward_hi = reward\n",
    "        self.gradients.append((reward_hi - reward_lo))\n",
    "\n",
    "    def get_optimal_theta(self, num_reward_spectators):\n",
    "        if len(self.gradients) == 0:\n",
    "            return 0\n",
    "        self.current_theta += self.eta * np.mean(self.gradients) / (2 * self.delta * num_reward_spectators)\n",
    "        return self.current_theta"
   ]
  },
  {
   "cell_type": "code",
   "execution_count": 74,
   "metadata": {},
   "outputs": [],
   "source": [
    "# contextual mirror descent\n",
    "class MD:\n",
    "    def __init__(self, env, initial_gamma=0.99, eta=np.pi/64, delta=np.pi/64):\n",
    "        # two contexts -> pos vs neg rotation with respect to a chosen rotational bias\n",
    "        self.contexts = [Context(initial_gamma, delta, eta), Context(initial_gamma, delta, eta)]\n",
    "\n",
    "        self.rewards = []\n",
    "        self.fidelity = []\n",
    "        self.control_fidelity = []\n",
    "\n",
    "        self.num_context_spectators = env.num_context_spectators\n",
    "        self.num_reward_spectators = env.num_reward_spectators\n",
    "\n",
    "        self.action_contextual_bias = 0\n",
    "\n",
    "        self.eta = eta\n",
    "        self.delta = delta\n",
    "\n",
    "    def get_actions(self, observations):\n",
    "        # our context is an array of binary spectator qubit measurements\n",
    "        # hence, we could convert this binary array to an integer and index 2^(spectator qubits) contexts\n",
    "        # context = self.contexts[np.packbits(observation, bitorder='little')[0]] \n",
    "        # for now, we only have two contexts (+ vs -), and so we consider spectators to be indistinguishable noise polling devices\n",
    "        # in the future, we may consider noise gradients and so we do indeed need to track the specific arrangement\n",
    "\n",
    "        actions = []\n",
    "        for observation in observations:\n",
    "            context_idx = 1 if np.sum(observation) > self.num_context_spectators / 2 else 0\n",
    "            context = self.contexts[context_idx]\n",
    "\n",
    "            ## to update the gamma or action space, use the functions below e.g. _update_action_distribution_width\n",
    "            ## this will ensure that the contextual history is reset once the historical correspondence between arms and particular thetas is nullified\n",
    "\n",
    "            # (quantile, uniform action distribution width, rotational bias)\n",
    "            actions.append((context.get_optimal_theta(self.num_reward_spectators // 2), self.delta, self.action_contextual_bias))\n",
    "        return actions\n",
    "\n",
    "    def update(self, actions, rewards, observations):\n",
    "        for context in self.contexts:\n",
    "            context.reset()\n",
    "\n",
    "        for action, reward, observation in zip(actions, rewards, observations):\n",
    "            arm, _, _ = action\n",
    "            context_idx = 1 if np.sum(observation) > self.num_context_spectators / 2 else 0\n",
    "            context = self.contexts[context_idx]\n",
    "            context.update_optimal_theta(reward)\n",
    "\n",
    "    def _update_gammas(self, gamma):\n",
    "        for context in self.contexts:\n",
    "            context.update_gamma(gamma)\n",
    "\n",
    "    def _update_action_distribution_width(self, width):\n",
    "        self.action_distribution_width = width\n",
    "        for context in self.contexts:\n",
    "            context.reset()\n",
    "\n",
    "    def _update_contextual_bias(self, bias):\n",
    "        self.update_contextual_bias = bias\n",
    "        for context in self.contexts:\n",
    "            context.reset()\n",
    "\n",
    "    def save_reward(self, reward):\n",
    "        self.rewards.append(reward)\n",
    "\n",
    "    def save_fidelity(self, fidelity):\n",
    "        self.fidelity.append(fidelity)\n",
    "\n",
    "    def save_control_fidelity(self, fidelity):\n",
    "        self.control_fidelity.append(fidelity)"
   ]
  },
  {
   "cell_type": "code",
   "execution_count": 75,
   "metadata": {},
   "outputs": [],
   "source": [
    "M = 100\n",
    "BATCH_SIZE = 100\n",
    "\n",
    "\n",
    "# add some random harmonics\n",
    "# time_dependent_fn = np.vectorize(lambda x: (2/5) * np.pi * np.sin(2 * np.pi * x / M))\n",
    "# error_samples = np.random.normal(0, np.pi / 4, M) # + time_dependent_fn(np.arange(M))\n",
    "error_samples = np.random.choice([-np.pi/4, np.pi / 4], M)"
   ]
  },
  {
   "cell_type": "code",
   "execution_count": 78,
   "metadata": {},
   "outputs": [],
   "source": [
    "from spectator_env import SpectatorEnvContinuous\n",
    "\n",
    "# describes MDP\n",
    "# - states are given in terms of a 64 bit measurement outcomes\n",
    "# - action space is given by (num_arms, uniform_action_space_width, contextual_measurement_bias) i.e. \\ZZ_{num_arms} \\times U(1) \\times U(1)\n",
    "env = SpectatorEnvContinuous(error_samples, batch_size=BATCH_SIZE, num_context_spectators=64, num_reward_spectators=64)\n",
    "\n",
    "# from stable_baselines.common.env_checker import check_env\n",
    "# check_env(env)"
   ]
  },
  {
   "cell_type": "code",
   "execution_count": 79,
   "metadata": {},
   "outputs": [
    {
     "data": {
      "image/png": "[encoded data removed]",
      "text/plain": [
       "<Figure size 1440x360 with 2 Axes>"
      ]
     },
     "metadata": {
      "needs_background": "light"
     },
     "output_type": "display_data"
    }
   ],
   "source": [
    "start = timer()\n",
    "\n",
    "md = MD(env, initial_gamma=1.0)\n",
    "\n",
    "episode_reward = 0\n",
    "episode_fidelity = []\n",
    "control_fidelity = []\n",
    "\n",
    "MAX_FRAMES = 10 * M // BATCH_SIZE\n",
    "\n",
    "# \"episodes\" are a reasonable way to think about learning a periodic time dependent function\n",
    "# max frames = episode length * num episodes\n",
    "# episodes are identical sequences of training data\n",
    "observation = env.reset()\n",
    "for frame_idx in range(1, MAX_FRAMES + 1):\n",
    "    # epsilon = config.epsilon_by_frame(frame_idx)\n",
    "\n",
    "    actions = md.get_actions(observation)\n",
    "    prev_observation=observation\n",
    "    observation, reward, done, info = env.step(actions)\n",
    "    observation = None if done else observation\n",
    "\n",
    "    # generally, in RL we would consider r(s | s', a)\n",
    "    # given a state transition s' -> s due to action a\n",
    "    # for now, we are only interested in r(s', a)\n",
    "    md.update(actions, reward, prev_observation)\n",
    "    episode_reward += np.sum(reward)\n",
    "\n",
    "    for x, y in info:\n",
    "        episode_fidelity.append(x)\n",
    "        control_fidelity.append(y)\n",
    "    if done:\n",
    "    # new_error_samples = np.random.normal(0, np.pi / 4, M)\n",
    "    # env.set_error_samples(new_error_samples)\n",
    "        observation = env.reset()\n",
    "        md.save_reward(episode_reward)\n",
    "        md.save_fidelity(np.mean(episode_fidelity))\n",
    "        md.save_control_fidelity(np.mean(control_fidelity))\n",
    "        episode_reward = 0\n",
    "        episode_fidelity = []\n",
    "        control_fidelity = []\n",
    "\n",
    "        # plot grouped by episode\n",
    "        plot(frame_idx, md.rewards, md.fidelity, md.control_fidelity,\n",
    "    timedelta(seconds=int(timer()-start)))\n",
    "\n",
    "env.close()\n",
    "\n"
   ]
  },
  {
   "cell_type": "code",
   "execution_count": 9,
   "metadata": {},
   "outputs": [
    {
     "name": "stdout",
     "output_type": "stream",
     "text": [
      "[2.5537e+04 6.2000e+01 1.0100e+02 1.0000e+00 3.0000e+01] [ 1.  4. 29.  1. 36.]\n",
      "[0.99999092 0.95935985 0.74299357 0.67880241 0.49542634]\n"
     ]
    }
   ],
   "source": [
    "print(ts.contexts[0].S, ts.contexts[0].F)\n",
    "print(ts.contexts[0].reward_posterior_samples)"
   ]
  },
  {
   "cell_type": "code",
   "execution_count": 10,
   "metadata": {},
   "outputs": [
    {
     "name": "stdout",
     "output_type": "stream",
     "text": [
      "[3.0000e+01 4.2000e+01 5.2000e+01 1.0000e+00 3.8017e+04] [36. 24. 14.  1.  1.]\n",
      "[0.53691944 0.64758189 0.83181447 0.62142533 0.99996642]\n"
     ]
    }
   ],
   "source": [
    "print(ts.contexts[1].S, ts.contexts[1].F)\n",
    "print(ts.contexts[1].reward_posterior_samples)"
   ]
  },
  {
   "cell_type": "code",
   "execution_count": null,
   "metadata": {},
   "outputs": [],
   "source": []
  }
 ],
 "metadata": {
  "kernelspec": {
   "display_name": "Python 3",
   "language": "python",
   "name": "python3"
  },
  "language_info": {
   "codemirror_mode": {
    "name": "ipython",
    "version": 3
   },
   "file_extension": ".py",
   "mimetype": "text/x-python",
   "name": "python",
   "nbconvert_exporter": "python",
   "pygments_lexer": "ipython3",
   "version": "3.7.4"
  }
 },
 "nbformat": 4,
 "nbformat_minor": 4
}
