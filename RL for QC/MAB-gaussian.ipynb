{
 "cells": [
  {
   "cell_type": "code",
   "execution_count": 1,
   "metadata": {
    "collapsed": false,
    "inputHidden": false,
    "jupyter": {
     "outputs_hidden": false
    },
    "outputHidden": false
   },
   "outputs": [],
   "source": [
    "from qiskit import QuantumCircuit, QuantumRegister, ClassicalRegister\n",
    "from qiskit import Aer, BasicAer, execute\n",
    "import matplotlib.pyplot as plt\n",
    "import numpy as np\n",
    "from qutip import *\n"
   ]
  },
  {
   "cell_type": "markdown",
   "metadata": {},
   "source": [
    " TODOs\n",
    "\n",
    "1. Assume a function f(x) that generates the gaussian distributions (relatively well behaved). How does a strategy like this works then?\n",
    "My assumption is that the more stochastic the errors are in the exploration phase, the better MAB will learn. If MAB sees more data that are not similar then it'll train better.\n",
    "2. Policy gradient\n",
    "Assume the action space is not discrete but use gradient descent to find out the best action.\n",
    "3. Put error bars on that average plot.\n",
    "4. Time varying error. How do we balance between exploration and exploitation?\n",
    "Use hypothesis testing. Null hypothesis is that the error does not change, alternative hypothesis is that it changes. Use how fast v0_mean_estimate or v1_mean_estimate changes to calculate some p value that will tell us that the error is changing.\n",
    "5. Optimize MAB parameters.\n",
    "6. How to extend this to more complicated error types?\n",
    "7. Find composite pulses resistant against over-rotation and phase error.\n"
   ]
  },
  {
   "cell_type": "markdown",
   "metadata": {},
   "source": [
    "For the state-determining circuit (where we mean state in the MDP and not quantum sense), we:\n",
    "- prepare in X (+1) eigenstate\n",
    "- rotate along Z axis by error theta\n",
    "- measure in Y basis\n",
    "Hence, p(+i) = cos^2[(pi/2-theta)/2] allowing us to distinguish between small positive and negative errors.\n",
    "Note, we cannot distinguish between rotations by (pi/2 + eps, pi/2 - eps). Therefore, we assume errors lie within [-pi/2, pi/2].\n",
    "\n"
   ]
  },
  {
   "cell_type": "code",
   "execution_count": 2,
   "metadata": {
    "collapsed": false,
    "inputHidden": false,
    "jupyter": {
     "outputs_hidden": false
    },
    "outputHidden": false
   },
   "outputs": [],
   "source": [
    "def get_spectator_context_circuit(error_theta):\n",
    "    qr = QuantumRegister(1)\n",
    "    cr = ClassicalRegister(1)\n",
    "    qc = QuantumCircuit(qr, cr)\n",
    "\n",
    "    qc.h(qr)\n",
    "\n",
    "    qc.rz(error_theta, qr)\n",
    "\n",
    "    qc.sdg(qr)\n",
    "    qc.h(qr)\n",
    "    qc.measure(qr, cr)\n",
    "\n",
    "    return qc\n",
    "\n"
   ]
  },
  {
   "cell_type": "markdown",
   "metadata": {},
   "source": [
    "For the reward-determining circuit, we:\n",
    "- prepare in X (+1) eigenstate\n",
    "- rotate along Z axis by error theta\n",
    "- measure in X basis\n",
    "Hence, p(+1) = cos^2[theta/2] allowing us to evaluation error correction reward.\n",
    "\n"
   ]
  },
  {
   "cell_type": "code",
   "execution_count": 3,
   "metadata": {
    "collapsed": false,
    "inputHidden": false,
    "jupyter": {
     "outputs_hidden": false
    },
    "outputHidden": false
   },
   "outputs": [],
   "source": [
    "def get_spectator_reward_circuit(error_theta):\n",
    "    qr = QuantumRegister(1)\n",
    "    cr = ClassicalRegister(1)\n",
    "    qc = QuantumCircuit(qr, cr)\n",
    "\n",
    "    qc.h(qr)\n",
    "\n",
    "    qc.rz(error_theta, qr)\n",
    "\n",
    "    qc.h(qr)\n",
    "    qc.measure(qr, cr)\n",
    "\n",
    "    return qc\n",
    "\n"
   ]
  },
  {
   "cell_type": "code",
   "execution_count": 4,
   "metadata": {
    "collapsed": false,
    "inputHidden": false,
    "jupyter": {
     "outputs_hidden": false
    },
    "outputHidden": false
   },
   "outputs": [
    {
     "data": {
      "text/html": [
       "<pre style=\"word-wrap: normal;white-space: pre;background: #fff0;line-height: 1.1;font-family: &quot;Courier New&quot;,Courier,monospace\">         ┌───┐┌───────────┐┌─────┐┌───┐┌─┐\n",
       "q0_0: |0>┤ H ├┤ Rz(pi/10) ├┤ Sdg ├┤ H ├┤M├\n",
       "         └───┘└───────────┘└─────┘└───┘└╥┘\n",
       " c0_0: 0 ═══════════════════════════════╩═\n",
       "                                          </pre>"
      ],
      "text/plain": [
       "<qiskit.visualization.text.TextDrawing at 0x120abd0b8>"
      ]
     },
     "execution_count": 4,
     "metadata": {},
     "output_type": "execute_result"
    }
   ],
   "source": [
    "qc = get_spectator_context_circuit(0.1 * np.pi)\n",
    "qc.draw()\n"
   ]
  },
  {
   "cell_type": "code",
   "execution_count": 5,
   "metadata": {
    "collapsed": false,
    "inputHidden": false,
    "jupyter": {
     "outputs_hidden": false
    },
    "outputHidden": false
   },
   "outputs": [
    {
     "name": "stdout",
     "output_type": "stream",
     "text": [
      "{'1': 352, '0': 648}\n",
      "{'1': 636, '0': 364}\n"
     ]
    }
   ],
   "source": [
    "qc_small_pos = get_spectator_context_circuit(0.1 * np.pi)\n",
    "qc_small_neg = get_spectator_context_circuit(-0.1 * np.pi)\n",
    "sim_pos = execute(\n",
    "    qc_small_pos, backend=BasicAer.get_backend('qasm_simulator'),\n",
    "    shots=1000)\n",
    "sim_neg = execute(\n",
    "    qc_small_neg, backend=BasicAer.get_backend('qasm_simulator'),\n",
    "    shots=1000)\n",
    "print(sim_pos.result().get_counts())\n",
    "print(sim_neg.result().get_counts())\n",
    "\n"
   ]
  },
  {
   "cell_type": "code",
   "execution_count": 6,
   "metadata": {
    "collapsed": false,
    "inputHidden": false,
    "jupyter": {
     "outputs_hidden": false
    },
    "outputHidden": false
   },
   "outputs": [],
   "source": [
    "# (action, reward) distribution for a given state\n",
    "# in particular, we have two states: V0, V1\n",
    "# @jitclass(spec)\n",
    "class MDPNode:\n",
    "    def __init__(self, num_arms):\n",
    "        # action set\n",
    "        self.thetas = np.pi/2 * np.linspace(-1, 1, num_arms)\n",
    "        # correspondingly indexed (reward | state, action) set\n",
    "        # samples from beta(S, F) distribution\n",
    "        self.rewards = np.ones(num_arms, dtype=np.float64)\n",
    "        # (successes | arm)\n",
    "        self.S = np.ones(num_arms, dtype=np.int)\n",
    "        # (failures | arm)\n",
    "        self.F = np.ones(num_arms, dtype=np.int)\n",
    "\n",
    "    def resample_rewards(self):\n",
    "        # rewards[arm] is drawn from beta(S[arm], F[arm]) distribution\n",
    "        # which enables exploration\n",
    "        for i in range(len(self.rewards)):\n",
    "            self.rewards[i] = np.random.beta(self.S[i], self.F[i])\n",
    "\n",
    "    def optimal_theta(self):\n",
    "        return self.thetas[np.argmax(self.rewards)]\n",
    "\n",
    "    def success(self):\n",
    "        # update assuming success occurred when pulling currently optimal arm\n",
    "        arm = np.argmax(self.rewards)\n",
    "        self.S[arm] += 1\n",
    "\n",
    "    def failure(self):\n",
    "        arm = np.argmax(self.rewards)\n",
    "        self.F[arm] += 1\n",
    "\n"
   ]
  },
  {
   "cell_type": "code",
   "execution_count": 7,
   "metadata": {
    "collapsed": false,
    "inputHidden": false,
    "jupyter": {
     "outputs_hidden": false
    },
    "outputHidden": false
   },
   "outputs": [],
   "source": [
    "def mab(error_samples, num_arms=11):\n",
    "    N = len(error_samples)\n",
    "    outcomes = np.zeros(N)\n",
    "    V0 = MDPNode(num_arms)\n",
    "    V1 = MDPNode(num_arms)\n",
    "\n",
    "    process_fidelity_corrected = np.zeros(N)\n",
    "    process_fidelity_noop = np.zeros(N)\n",
    "    for i in range(N):\n",
    "        spectator_qc_1 = get_spectator_context_circuit(error_samples[i])\n",
    "\n",
    "        # single measurement of first spectator qubit\n",
    "        sim_1 = execute(\n",
    "            spectator_qc_1, backend=BasicAer.get_backend('qasm_simulator'),\n",
    "            shots=1)\n",
    "        outcome_1 = int(\n",
    "            list(sim_1.result().get_counts().keys())[0]\n",
    "            )\n",
    "        outcomes[i] = outcome_1\n",
    "\n",
    "        # contextual multi-arm bandit\n",
    "        context = V0 if outcome_1 == 0 else V1\n",
    "        context.resample_rewards()\n",
    "        correction_theta = context.optimal_theta()\n",
    "\n",
    "        # rotations along the same axis commute\n",
    "        spectator_qc_2 = get_spectator_reward_circuit(\n",
    "            error_samples[i] + correction_theta)\n",
    "        sim_2 = execute(\n",
    "            spectator_qc_2, backend=BasicAer.get_backend('qasm_simulator'),\n",
    "            shots=1)\n",
    "        outcome_2 = int(\n",
    "            list(sim_2.result().get_counts().keys())[0]\n",
    "            )\n",
    "\n",
    "        if (outcome_2 == 0):\n",
    "            context.success()\n",
    "        else:\n",
    "            context.failure()\n",
    "\n",
    "        process_fidelity_corrected[i] = rz(error_samples[i] + correction_theta).tr() / 2\n",
    "        process_fidelity_noop[i] = rz(error_samples[i]).tr() / 2\n",
    "\n",
    "    return (V0, V1,\n",
    "            process_fidelity_corrected, process_fidelity_noop, outcomes)\n",
    "\n"
   ]
  },
  {
   "cell_type": "code",
   "execution_count": 11,
   "metadata": {
    "collapsed": false,
    "inputHidden": false,
    "jupyter": {
     "outputs_hidden": false
    },
    "outputHidden": false
   },
   "outputs": [],
   "source": [
    "# unif [-alpha, alpha]\n",
    "alpha_list = np.pi * np.array([0.5])\n",
    "\n",
    "V0_sequence, V1_sequence = [], []\n",
    "outcomes_sequence = []\n",
    "fid_corrected_sequence, fid_noop_sequence = [], []\n",
    "\n",
    "N = 10000\n",
    "for alpha in alpha_list:\n",
    "    error_samples = np.random.uniform(-alpha, alpha, N)\n",
    "    V0, V1, fid_corrected, fid_noop, outcomes = mab(error_samples)\n",
    "\n",
    "    V0_sequence.append(V0)\n",
    "    V1_sequence.append(V1)\n",
    "    outcomes_sequence.append(outcomes)\n",
    "    fid_corrected_sequence.append(fid_corrected)\n",
    "    fid_noop_sequence.append(fid_noop)\n",
    "\n"
   ]
  },
  {
   "cell_type": "code",
   "execution_count": 12,
   "metadata": {
    "collapsed": false,
    "inputHidden": false,
    "jupyter": {
     "outputs_hidden": false
    },
    "outputHidden": false
   },
   "outputs": [
    {
     "name": "stdout",
     "output_type": "stream",
     "text": [
      "[0.81660914 0.80495085 0.88223702 0.91289553 0.85367544 0.50239067\n",
      " 0.56985122 0.28334391 0.09167095 0.44128528 0.24212885]\n",
      "[0.52844309 0.15583714 0.00381701 0.25463971 0.72130113 0.76358905\n",
      " 0.8073884  0.91269884 0.87925322 0.76187927 0.03342829]\n"
     ]
    }
   ],
   "source": [
    "print(V0_sequence[0].rewards)\n",
    "print(V1_sequence[0].rewards)\n",
    "\n"
   ]
  },
  {
   "cell_type": "code",
   "execution_count": 13,
   "metadata": {
    "collapsed": false,
    "inputHidden": false,
    "jupyter": {
     "outputs_hidden": false
    },
    "outputHidden": false
   },
   "outputs": [
    {
     "data": {
      "image/png": "[encoded data removed]",
      "text/plain": [
       "<Figure size 432x288 with 1 Axes>"
      ]
     },
     "metadata": {
      "needs_background": "light"
     },
     "output_type": "display_data"
    }
   ],
   "source": [
    "idx = np.linspace(1, N, N)\n",
    "plt.figure()\n",
    "plt.plot(idx, fid_noop_sequence[0], 'r.', idx, fid_corrected_sequence[0], 'g.')\n",
    "plt.show()"
   ]
  },
  {
   "cell_type": "code",
   "execution_count": null,
   "metadata": {},
   "outputs": [],
   "source": []
  }
 ],
 "metadata": {
  "kernelspec": {
   "display_name": "Python 3",
   "language": "python",
   "name": "python3"
  },
  "language_info": {
   "codemirror_mode": {
    "name": "ipython",
    "version": 3
   },
   "file_extension": ".py",
   "mimetype": "text/x-python",
   "name": "python",
   "nbconvert_exporter": "python",
   "pygments_lexer": "ipython3",
   "version": "3.6.4"
  }
 },
 "nbformat": 4,
 "nbformat_minor": 4
}
