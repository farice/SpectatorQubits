{
  "cells": [
    {
      "cell_type": "code",
      "source": [
        "from qiskit import QuantumCircuit, QuantumRegister, ClassicalRegister\n",
        "from qiskit import Aer, BasicAer, execute\n",
        "import matplotlib.pyplot as plt\n",
        "import numpy as np\n",
        "from tqdm import tqdm, trange\n",
        "import random\n",
        "import numba\n",
        "from qutip import *\n",
        "\n",
        "%matplotlib inline\n"
      ],
      "outputs": [],
      "execution_count": null,
      "metadata": {
        "collapsed": false,
        "outputHidden": false,
        "inputHidden": false
      }
    },
    {
      "cell_type": "markdown",
      "source": [
        "Things I need to look at:\n",
        "1. Assume a function f(x) that generates the gaussian distributions (relatively well behaved). How does a strategy like this works then?\n",
        "My assumption is that the more stochastic the errors are in the exploration phase, the better MAB will learn. If MAB sees more data that are not similar then it'll train better.\n",
        "\n",
        "2. Policy gradient\n",
        "Assume the action space is not discrete but use gradient descent to find out the best action.\n",
        "\n",
        "3. Put error bars on that average plot.\n",
        "4. Time varying error. How do we balance between exploraion and exploitation.\n",
        "Use hypothesis testing. Null hypothesis is that the error does not change, alternative hypothesis is that it changes. Use how fast v0_mean_estimate or v1_mean_estimate changes to calculate some p value that will tell us that the error is changing.\n",
        "5. Optimize MAB parameters.\n",
        "6. How to extend this to more complicated error types?\n",
        "7. Find composite pulses resistant against over-rotation and phase error.\n",
        "\n"
      ],
      "metadata": {}
    },
    {
      "cell_type": "code",
      "source": [
        "# prepare state in X basis\n",
        "# rotate along Z axis\n",
        "# measure in X basis\n",
        "def get_spectator_circuit(error_theta):\n",
        "    qr = QuantumRegister(1)\n",
        "    cr = ClassicalRegister(1)\n",
        "    qc = QuantumCircuit(qr, cr)\n",
        "\n",
        "    qc.h(qr)\n",
        "\n",
        "    qc.rz(error_theta, qr)\n",
        "\n",
        "    qc.h(qr)\n",
        "    qc.measure(qr, cr)\n",
        "\n",
        "    return qc\n",
        "\n"
      ],
      "outputs": [],
      "execution_count": null,
      "metadata": {
        "collapsed": false,
        "outputHidden": false,
        "inputHidden": false
      }
    },
    {
      "cell_type": "code",
      "source": [
        "spectator_qc = get_spectator_circuit(0.1)\n",
        "spectator_qc.draw()\n",
        "\n"
      ],
      "outputs": [],
      "execution_count": null,
      "metadata": {
        "collapsed": false,
        "outputHidden": false,
        "inputHidden": false
      }
    },
    {
      "cell_type": "code",
      "source": [
        "# (action, reward) distribution for a given state\n",
        "# in particular, we have two states: V0, V1\n",
        "class MDPNode:\n",
        "    def __init__(self, num_arms, ):\n",
        "        # action set\n",
        "        self.thetas = -np.linspace(0, 1, num_arms)\n",
        "        # correspondingly indexed reward set\n",
        "        self.rewards = np.zeros(num_arms)\n",
        "\n",
        "    def optimal_theta(self):\n",
        "        return self.thetas[np.argmax(self.rewards)]\n",
        "\n"
      ],
      "outputs": [],
      "execution_count": null,
      "metadata": {
        "collapsed": false,
        "outputHidden": false,
        "inputHidden": false
      }
    },
    {
      "cell_type": "code",
      "source": [
        "# @numba.jit\n",
        "def mab(error_samples, num_arms=10, N=10000):\n",
        "    outcomes = np.zeros(N)\n",
        "    V0 = MDPNode(num_arms)\n",
        "    V1 = MDPNode(num_arms)\n",
        "\n",
        "    process_fidelity_corrected = np.zeros(N)\n",
        "    process_fidelity_noop = np.zeros(N)\n",
        "    for i in range(N):\n",
        "        # print(V0.rewards)\n",
        "        # print(V1.rewards)\n",
        "        # print(\"\\n\")\n",
        "\n",
        "        spectator_qc_1 = get_spectator_circuit(error_samples[i])\n",
        "\n",
        "        # single measurement of first spectator qubit\n",
        "        sim_1 = execute(\n",
        "            spectator_qc_1, backend=BasicAer.get_backend('qasm_simulator'),\n",
        "            shots=1)\n",
        "        outcome_1 = int(\n",
        "            list(sim_1.result().get_counts().keys())[0]\n",
        "            )\n",
        "        outcomes[i] = outcome_1\n",
        "\n",
        "        # print(outcome_1)\n",
        "        # print(\"\\n\")\n",
        "\n",
        "        # contextual multi-arm bandit\n",
        "        (rewards, thetas) = (V0.rewards, V0.thetas) if outcome_1 == 0 else (V1.rewards, V1.thetas)\n",
        "\n",
        "        eps = np.random.rand()\n",
        "        arm = np.random.randint(0, num_arms-1) if eps <= 1/(i+1) else np.argmax(\n",
        "                                                                      rewards)\n",
        "        correction_theta = thetas[arm]\n",
        "\n",
        "        # rotations along the same axis commute\n",
        "        spectator_qc_2 = get_spectator_circuit(\n",
        "            error_samples[i] + correction_theta)\n",
        "        sim_2 = execute(\n",
        "            spectator_qc_2, backend=BasicAer.get_backend('qasm_simulator'),\n",
        "            shots=1)\n",
        "        outcome_2 = int(\n",
        "            list(sim_2.result().get_counts().keys())[0]\n",
        "            )\n",
        "\n",
        "        if (outcome_2 == 0):\n",
        "            rewards[arm] += 1\n",
        "        else:\n",
        "            rewards[arm] -= 1\n",
        "\n",
        "        process_fidelity_corrected[i] = rz(error_samples[i] + correction_theta).tr() / 2\n",
        "        process_fidelity_noop[i] = rz(error_samples[i]).tr() / 2\n",
        "\n",
        "        # print(rz(error[i] + correction_theta))\n",
        "        # print(process_fidelity_corrected[i], process_fidelity_noop[i])\n",
        "        # print(\"\\n\")\n",
        "\n",
        "    return (V0, V1,\n",
        "            process_fidelity_corrected, process_fidelity_noop, outcomes)\n",
        "\n"
      ],
      "outputs": [],
      "execution_count": null,
      "metadata": {
        "collapsed": false,
        "outputHidden": false,
        "inputHidden": false
      }
    },
    {
      "cell_type": "code",
      "source": [
        "# mean of gaussian error distribution\n",
        "mu_list = [0.5]\n",
        "sigma = 0.1\n",
        "\n",
        "theta_sequence = []\n",
        "outcomes_sequence = []\n",
        "fid_corrected_sequence = []\n",
        "fid_noop_sequence = []\n",
        "\n",
        "N = 1000\n",
        "for mu in tqdm(mu_list):\n",
        "    error_samples = np.random.normal(mu, sigma, N)\n",
        "    V0, V1, fid_corrected, fid_noop, outcomes = mab(error_samples, N=N)\n",
        "\n",
        "    theta_sequence.append((V0.optimal_theta(), V1.optimal_theta()))\n",
        "    outcomes_sequence.append(outcomes)\n",
        "    fid_corrected_sequence.append(fid_corrected)\n",
        "    fid_noop_sequence.append(fid_noop)\n",
        "\n"
      ],
      "outputs": [],
      "execution_count": null,
      "metadata": {
        "collapsed": false,
        "outputHidden": false,
        "inputHidden": false
      }
    },
    {
      "cell_type": "code",
      "source": [
        "print(theta_sequence)\n"
      ],
      "outputs": [],
      "execution_count": null,
      "metadata": {
        "collapsed": false,
        "outputHidden": false,
        "inputHidden": false
      }
    },
    {
      "cell_type": "code",
      "source": [
        "idx = np.linspace(1, N, N)\n",
        "plt.figure()\n",
        "plt.plot(idx, fid_noop_sequence[0], 'r.', idx, fid_corrected_sequence[0], 'g.')\n",
        "plt.show()"
      ],
      "outputs": [],
      "execution_count": null,
      "metadata": {
        "collapsed": false,
        "outputHidden": false,
        "inputHidden": false
      }
    }
  ],
  "metadata": {
    "kernelspec": {
      "argv": [
        "/usr/local/bin/python3",
        "-m",
        "ipykernel_launcher",
        "-f",
        "{connection_file}"
      ],
      "display_name": "Python 3",
      "language": "python",
      "name": "python3"
    }
  },
  "nbformat": 4,
  "nbformat_minor": 0
}