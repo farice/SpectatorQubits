{
 "cells": [
  {
   "cell_type": "markdown",
   "metadata": {},
   "source": [
    "# Deep Recurrent Q Network"
   ]
  },
  {
   "cell_type": "markdown",
   "metadata": {},
   "source": [
    "## Imports"
   ]
  },
  {
   "cell_type": "code",
   "execution_count": 1,
   "metadata": {},
   "outputs": [],
   "source": [
    "import gym\n",
    "import numpy as np\n",
    "\n",
    "import torch\n",
    "import torch.nn as nn\n",
    "import torch.nn.functional as F\n",
    "import torch.optim as optim\n",
    "\n",
    "from IPython.display import clear_output\n",
    "from matplotlib import pyplot as plt\n",
    "%matplotlib inline\n",
    "\n",
    "from timeit import default_timer as timer\n",
    "from datetime import timedelta\n",
    "import math\n",
    "import random\n",
    "\n",
    "from utils.wrappers import *\n",
    "\n",
    "from agents.DQN import Model as DQN_Agent\n",
    "\n",
    "from networks.network_bodies import SimpleBody\n",
    "\n",
    "from utils.ReplayMemory import ExperienceReplayMemory\n",
    "from utils.hyperparameters import Config\n",
    "\n",
    "%load_ext autoreload\n",
    "%autoreload 2"
   ]
  },
  {
   "cell_type": "markdown",
   "metadata": {},
   "source": [
    "## Hyperparameters"
   ]
  },
  {
   "cell_type": "code",
   "execution_count": 2,
   "metadata": {},
   "outputs": [],
   "source": [
    "config = Config()\n",
    "\n",
    "config.device = torch.device(\"cuda\" if torch.cuda.is_available() else \"cpu\")\n",
    "device = config.device\n",
    "\n",
    "#epsilon variables\n",
    "config.epsilon_start = 1.0\n",
    "config.epsilon_final = 0.01\n",
    "config.epsilon_decay = 20000\n",
    "config.epsilon_by_frame = lambda frame_idx: config.epsilon_final + (config.epsilon_start - config.epsilon_final) * math.exp(-1. * frame_idx / config.epsilon_decay)\n",
    "\n",
    "#misc agent variables\n",
    "config.GAMMA=0.99\n",
    "config.LR=1e-4\n",
    "\n",
    "#memory\n",
    "config.TARGET_NET_UPDATE_FREQ = 128\n",
    "config.EXP_REPLAY_SIZE = 1000\n",
    "config.BATCH_SIZE = 32\n",
    "\n",
    "#Learning control variables\n",
    "config.LEARN_START = 5000\n",
    "config.MAX_FRAMES=100000\n",
    "\n",
    "#Nstep controls\n",
    "config.N_STEPS=1\n",
    "\n",
    "#DRQN Parameters\n",
    "config.SEQUENCE_LENGTH=8"
   ]
  },
  {
   "cell_type": "markdown",
   "metadata": {},
   "source": [
    "## Replay Buffer"
   ]
  },
  {
   "cell_type": "code",
   "execution_count": 3,
   "metadata": {},
   "outputs": [],
   "source": [
    "class RecurrentExperienceReplayMemory:\n",
    "    def __init__(self, capacity, sequence_length=10):\n",
    "        self.capacity = capacity\n",
    "        self.memory = []\n",
    "        self.seq_length=sequence_length\n",
    "\n",
    "    def push(self, transition):\n",
    "        self.memory.append(transition)\n",
    "        if len(self.memory) > self.capacity:\n",
    "            del self.memory[0]\n",
    "\n",
    "    def sample(self, batch_size):\n",
    "        finish = random.sample(range(0, len(self.memory)), batch_size)\n",
    "        begin = [x-self.seq_length for x in finish]\n",
    "        samp = []\n",
    "        for start, end in zip(begin, finish):\n",
    "            #correct for sampling near beginning\n",
    "            final = self.memory[max(start+1,0):end+1]\n",
    "            \n",
    "            #correct for sampling across episodes\n",
    "            for i in range(len(final)-2, -1, -1):\n",
    "                if final[i][3] is None:\n",
    "                    final = final[i+1:]\n",
    "                    break\n",
    "                    \n",
    "            #pad beginning to account for corrections\n",
    "            while(len(final)<self.seq_length):\n",
    "                final = [(np.zeros_like(self.memory[0][0]), 0, 0, np.zeros_like(self.memory[0][3]))] + final\n",
    "                            \n",
    "            samp+=final\n",
    "\n",
    "        #returns flattened version\n",
    "        return samp, None, None\n",
    "\n",
    "    def __len__(self):\n",
    "        return len(self.memory)"
   ]
  },
  {
   "cell_type": "markdown",
   "metadata": {},
   "source": [
    "## Network"
   ]
  },
  {
   "cell_type": "code",
   "execution_count": 4,
   "metadata": {},
   "outputs": [],
   "source": [
    "class DRQN(nn.Module):\n",
    "    def __init__(self, input_shape, num_actions, gru_size=32, bidirectional=False, body=SimpleBody):\n",
    "        super(DRQN, self).__init__()\n",
    "        \n",
    "        self.input_shape = input_shape\n",
    "        self.num_actions = num_actions\n",
    "        self.gru_size = gru_size\n",
    "        self.bidirectional = bidirectional\n",
    "        self.num_directions = 2 if self.bidirectional else 1\n",
    "\n",
    "        self.body = body(input_shape, num_actions)\n",
    "        self.gru = nn.GRU(self.body.feature_size(), self.gru_size, num_layers=1, batch_first=True, bidirectional=bidirectional)\n",
    "        #self.fc1 = nn.Linear(self.body.feature_size(), self.gru_size)\n",
    "        self.fc2 = nn.Linear(self.gru_size, self.num_actions)\n",
    "        \n",
    "    def forward(self, x, hx=None):\n",
    "        batch_size = x.size(0)\n",
    "        sequence_length = x.size(1)\n",
    "        \n",
    "        x = x.view((-1,)+self.input_shape)\n",
    "        \n",
    "        #format outp for batch first gru\n",
    "        feats = self.body(x).view(batch_size, sequence_length, -1)\n",
    "        hidden = self.init_hidden(batch_size) if hx is None else hx\n",
    "        out, hidden = self.gru(feats, hidden)\n",
    "        x = self.fc2(out)\n",
    "\n",
    "        return x, hidden\n",
    "        #return x\n",
    "\n",
    "    def init_hidden(self, batch_size):\n",
    "        return torch.zeros(1*self.num_directions, batch_size, self.gru_size, device=device, dtype=torch.float)\n",
    "    \n",
    "    def sample_noise(self):\n",
    "        pass"
   ]
  },
  {
   "cell_type": "markdown",
   "metadata": {},
   "source": [
    "## Agent"
   ]
  },
  {
   "cell_type": "code",
   "execution_count": 5,
   "metadata": {},
   "outputs": [],
   "source": [
    "class Model(DQN_Agent):\n",
    "    def __init__(self, static_policy=False, env=None, config=None):\n",
    "        self.sequence_length=config.SEQUENCE_LENGTH\n",
    "\n",
    "        super(Model, self).__init__(static_policy, env, config)\n",
    "\n",
    "        self.reset_hx()\n",
    "    \n",
    "    def declare_networks(self):\n",
    "        self.model = DRQN(self.num_feats, self.num_actions, body=SimpleBody)\n",
    "        self.target_model = DRQN(self.num_feats, self.num_actions, body=SimpleBody)\n",
    "\n",
    "    def declare_memory(self):\n",
    "        self.memory = RecurrentExperienceReplayMemory(self.experience_replay_size, self.sequence_length)\n",
    "        #self.memory = ExperienceReplayMemory(self.experience_replay_size)\n",
    "\n",
    "    def prep_minibatch(self):\n",
    "        transitions, indices, weights = self.memory.sample(self.batch_size)\n",
    "\n",
    "        batch_state, batch_action, batch_reward, batch_next_state = zip(*transitions)\n",
    "\n",
    "        shape = (self.batch_size,self.sequence_length)+self.num_feats\n",
    "\n",
    "        batch_state = torch.tensor(batch_state, device=self.device, dtype=torch.float).view(shape)\n",
    "        batch_action = torch.tensor(batch_action, device=self.device, dtype=torch.long).view(self.batch_size, self.sequence_length, -1)\n",
    "        batch_reward = torch.tensor(batch_reward, device=self.device, dtype=torch.float).view(self.batch_size, self.sequence_length)\n",
    "        #get set of next states for end of each sequence\n",
    "        batch_next_state = tuple([batch_next_state[i] for i in range(len(batch_next_state)) if (i+1)%(self.sequence_length)==0])\n",
    "\n",
    "        non_final_mask = torch.tensor(tuple(map(lambda s: s is not None, batch_next_state)), device=self.device, dtype=torch.uint8)\n",
    "        try: #sometimes all next states are false, especially with nstep returns\n",
    "            non_final_next_states = torch.tensor([s for s in batch_next_state if s is not None], device=self.device, dtype=torch.float).unsqueeze(dim=1)\n",
    "            non_final_next_states = torch.cat([batch_state[non_final_mask, 1:, :], non_final_next_states], dim=1)\n",
    "            empty_next_state_values = False\n",
    "        except:\n",
    "            empty_next_state_values = True\n",
    "\n",
    "        return batch_state, batch_action, batch_reward, non_final_next_states, non_final_mask, empty_next_state_values, indices, weights\n",
    "    \n",
    "    def compute_loss(self, batch_vars):\n",
    "        batch_state, batch_action, batch_reward, non_final_next_states, non_final_mask, empty_next_state_values, indices, weights = batch_vars\n",
    "\n",
    "        #estimate\n",
    "        current_q_values, _ = self.model(batch_state)\n",
    "        current_q_values = current_q_values.gather(2, batch_action).squeeze()\n",
    "        \n",
    "        #target\n",
    "        with torch.no_grad():\n",
    "            max_next_q_values = torch.zeros((self.batch_size, self.sequence_length), device=self.device, dtype=torch.float)\n",
    "            if not empty_next_state_values:\n",
    "                max_next, _ = self.target_model(non_final_next_states)\n",
    "                max_next_q_values[non_final_mask] = max_next.max(dim=2)[0]\n",
    "            expected_q_values = batch_reward + ((self.gamma**self.nsteps)*max_next_q_values)\n",
    "\n",
    "        diff = (expected_q_values - current_q_values)\n",
    "        loss = self.huber(diff)\n",
    "        \n",
    "        #mask first half of losses\n",
    "        split = self.sequence_length // 2\n",
    "        mask = torch.zeros(self.sequence_length, device=self.device, dtype=torch.float)\n",
    "        mask[split:] = 1.0\n",
    "        mask = mask.view(1, -1)\n",
    "        loss *= mask\n",
    "        \n",
    "        loss = loss.mean()\n",
    "\n",
    "        return loss\n",
    "\n",
    "    def get_action(self, s, eps=0.1):\n",
    "        with torch.no_grad():\n",
    "            self.seq.pop(0)\n",
    "            self.seq.append(s)\n",
    "            if np.random.random() >= eps or self.static_policy or self.noisy:\n",
    "                X = torch.tensor([self.seq], device=self.device, dtype=torch.float) \n",
    "                self.model.sample_noise()\n",
    "                a, _ = self.model(X)\n",
    "                a = a[:, -1, :] #select last element of seq\n",
    "                a = a.max(1)[1]\n",
    "                return a.item()\n",
    "            else:\n",
    "                return np.random.randint(0, self.num_actions)\n",
    "\n",
    "    #def get_max_next_state_action(self, next_states, hx):\n",
    "    #    max_next, _ = self.target_model(next_states, hx)\n",
    "    #    return max_next.max(dim=1)[1].view(-1, 1)'''\n",
    "\n",
    "    def reset_hx(self):\n",
    "        #self.action_hx = self.model.init_hidden(1)\n",
    "        self.seq = [np.zeros(self.num_feats) for j in range(self.sequence_length)]"
   ]
  },
  {
   "cell_type": "markdown",
   "metadata": {},
   "source": [
    "## Plot Results"
   ]
  },
  {
   "cell_type": "code",
   "execution_count": 6,
   "metadata": {},
   "outputs": [],
   "source": [
    "def plot(frame_idx, rewards, losses, sigma, elapsed_time):\n",
    "    clear_output(True)\n",
    "    plt.figure(figsize=(20,5))\n",
    "    plt.subplot(121)\n",
    "    plt.title('frame %s. reward: %s. time: %s' % (frame_idx, np.mean(rewards[-10:]), elapsed_time))\n",
    "    plt.plot(rewards)\n",
    "    if losses or sigma:\n",
    "        plt.subplot(122)\n",
    "        plt.title('fidelity')\n",
    "    if losses:\n",
    "        plt.plot(losses, 'r')\n",
    "    if sigma:\n",
    "        plt.plot(sigma, 'g')\n",
    "    plt.show()"
   ]
  },
  {
   "cell_type": "markdown",
   "metadata": {},
   "source": [
    "## Training Loop"
   ]
  },
  {
   "cell_type": "code",
   "execution_count": 7,
   "metadata": {},
   "outputs": [],
   "source": [
    "from spectator_env import SpectatorEnv"
   ]
  },
  {
   "cell_type": "code",
   "execution_count": 12,
   "metadata": {},
   "outputs": [],
   "source": [
    "M = 10000\n",
    "N = 5 * M\n",
    "\n",
    "time_dependent_fn = np.vectorize(lambda x: (2/5) * np.pi * np.sin(2 * np.pi * x / M))\n",
    "error_samples = np.random.normal(0.1 * np.pi, 0.2 * np.pi, N) + time_dependent_fn(np.arange(N))"
   ]
  },
  {
   "cell_type": "code",
   "execution_count": 9,
   "metadata": {},
   "outputs": [
    {
     "name": "stdout",
     "output_type": "stream",
     "text": [
      "cuda\n"
     ]
    }
   ],
   "source": [
    "print(config.device)"
   ]
  },
  {
   "cell_type": "code",
   "execution_count": 10,
   "metadata": {},
   "outputs": [],
   "source": [
    "import warnings\n",
    "warnings.filterwarnings(\"ignore\", category=UserWarning)"
   ]
  },
  {
   "cell_type": "code",
   "execution_count": 11,
   "metadata": {
    "scrolled": true
   },
   "outputs": [
    {
     "data": {
      "image/png": "[encoded data removed]",
      "text/plain": [
       "<Figure size 1440x360 with 3 Axes>"
      ]
     },
     "metadata": {
      "needs_background": "light"
     },
     "output_type": "display_data"
    }
   ],
   "source": [
    "start=timer()\n",
    "\n",
    "env = SpectatorEnv(error_samples)\n",
    "model = Model(env=env, config=config)\n",
    "\n",
    "episode_reward = 0\n",
    "episode_fidelity = []\n",
    "control_fidelity = []\n",
    "\n",
    "observation = env.reset()\n",
    "for frame_idx in range(1, config.MAX_FRAMES + 1):\n",
    "    epsilon = config.epsilon_by_frame(frame_idx)\n",
    "    \n",
    "    action = model.get_action(observation, epsilon)\n",
    "    prev_observation=observation\n",
    "    observation, reward, done, info = env.step(action)\n",
    "    observation = None if done else observation\n",
    "\n",
    "    model.update(prev_observation, action, reward, observation, frame_idx)\n",
    "    episode_reward += reward\n",
    "    episode_fidelity.append(info[0])\n",
    "    control_fidelity.append(info[1])\n",
    "\n",
    "    if done:\n",
    "        model.finish_nstep()\n",
    "        model.reset_hx()\n",
    "        observation = env.reset()\n",
    "        model.save_reward(episode_reward)\n",
    "        model.save_fidelity(np.mean(episode_fidelity))\n",
    "        model.save_control_fidelity(np.mean(control_fidelity))\n",
    "        episode_reward = 0\n",
    "        episode_fidelity = []\n",
    "        control_fidelity = []\n",
    "\n",
    "    if frame_idx % 10000 == 0:\n",
    "        plot(frame_idx, model.rewards, model.fidelity, model.control_fidelity, timedelta(seconds=int(timer()-start)))\n",
    "\n",
    "model.save_w()\n",
    "env.close()"
   ]
  },
  {
   "cell_type": "code",
   "execution_count": null,
   "metadata": {},
   "outputs": [],
   "source": []
  }
 ],
 "metadata": {
  "kernelspec": {
   "display_name": "Python 3",
   "language": "python",
   "name": "python3"
  },
  "language_info": {
   "codemirror_mode": {
    "name": "ipython",
    "version": 3
   },
   "file_extension": ".py",
   "mimetype": "text/x-python",
   "name": "python",
   "nbconvert_exporter": "python",
   "pygments_lexer": "ipython3",
   "version": "3.7.4"
  }
 },
 "nbformat": 4,
 "nbformat_minor": 4
}
