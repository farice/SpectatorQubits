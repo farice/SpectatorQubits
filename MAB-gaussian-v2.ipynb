{
 "cells": [
  {
   "cell_type": "code",
   "execution_count": 1,
   "metadata": {
    "collapsed": false,
    "inputHidden": false,
    "jupyter": {
     "outputs_hidden": false
    },
    "outputHidden": false
   },
   "outputs": [],
   "source": [
    "import gym\n",
    "import numpy as np\n",
    "\n",
    "import torch\n",
    "import torch.nn as nn\n",
    "import torch.nn.functional as F\n",
    "import torch.optim as optim\n",
    "\n",
    "from IPython.display import clear_output\n",
    "from matplotlib import pyplot as plt\n",
    "%matplotlib inline\n",
    "\n",
    "from timeit import default_timer as timer\n",
    "from datetime import timedelta\n",
    "import math\n",
    "import random"
   ]
  },
  {
   "cell_type": "code",
   "execution_count": 2,
   "metadata": {},
   "outputs": [],
   "source": [
    "%load_ext autoreload\n",
    "%autoreload 2"
   ]
  },
  {
   "cell_type": "code",
   "execution_count": 3,
   "metadata": {},
   "outputs": [],
   "source": [
    "def plot(frame_idx, rewards, losses, sigma, elapsed_time):\n",
    "    clear_output(True)\n",
    "    plt.figure(figsize=(20,5))\n",
    "    plt.subplot(121)\n",
    "    plt.title('frame %s. reward: %s. time: %s' % (frame_idx, np.mean(rewards[-10:]), elapsed_time))\n",
    "    plt.plot(rewards)\n",
    "    if losses or sigma:\n",
    "        plt.subplot(122)\n",
    "        plt.title('fidelity')\n",
    "    if losses:\n",
    "        plt.plot(losses, 'g')\n",
    "    if sigma:\n",
    "        plt.plot(sigma, 'r')\n",
    "    plt.show()"
   ]
  },
  {
   "cell_type": "code",
   "execution_count": 4,
   "metadata": {},
   "outputs": [],
   "source": [
    "# (action, reward) distribution for a given \"spectator measurement outcome\" state\n",
    "class Context:\n",
    "    def __init__(self, num_arms, gamma):\n",
    "        # correspondingly indexed (reward | state, action) set\n",
    "        # samples from beta(S, F) distribution\n",
    "        self.reward_posterior_samples = np.ones(num_arms, dtype=np.float64)\n",
    "        # (successes | arm)\n",
    "        self.S = np.ones(num_arms, dtype=np.int)\n",
    "        # (failures | arm)\n",
    "        self.F = np.ones(num_arms, dtype=np.int)\n",
    "        # discount factor\n",
    "        self.gamma = gamma\n",
    "        \n",
    "        self.num_arms = num_arms\n",
    "        \n",
    "    def reset(self):\n",
    "        self.S = np.ones(self.num_arms, dtype=np.int)\n",
    "        self.F = np.ones(self.num_arms, dtype=np.int)\n",
    "        \n",
    "    def update_gamma(self, gamma):\n",
    "        self.gamma = gamma\n",
    "        \n",
    "    def resample_rewards(self):\n",
    "        # (\"Thompson\") sampling from beta(S, F) distribution for each arm\n",
    "        # which enables exploration\n",
    "        for i in range(len(self.reward_posterior_samples)):\n",
    "            self.reward_posterior_samples[i] = np.random.beta(self.S[i], self.F[i])\n",
    "\n",
    "    def discount(self):\n",
    "        self.S = self.gamma * self.S\n",
    "        self.F = self.gamma * self.F\n",
    "        \n",
    "    def update_posterior(self, reward, arm):\n",
    "        self.discount()\n",
    "        self.S[arm] += reward\n",
    "        self.F[arm] += 1-reward"
   ]
  },
  {
   "cell_type": "code",
   "execution_count": 15,
   "metadata": {},
   "outputs": [],
   "source": [
    "# contextual Thompson Sampling algorithm implementation\n",
    "class TS:\n",
    "    def __init__(self, env, initial_gamma=0.99):\n",
    "        # two contexts -> pos vs neg rotation with respect to a chosen rotational bias\n",
    "        self.contexts = [Context(env.num_arms, initial_gamma), Context(env.num_arms, initial_gamma)]\n",
    "        \n",
    "        self.rewards = []\n",
    "        self.fidelity = []\n",
    "        self.control_fidelity = []\n",
    "        \n",
    "        self.num_context_spectators = env.num_context_spectators\n",
    "        \n",
    "        self.action_distribution_width = np.pi\n",
    "        self.action_contextual_bias = 0\n",
    "        \n",
    "        \n",
    "    def get_action(self, observation):\n",
    "        # our context is an array of binary spectator qubit measurements\n",
    "        # hence, we could convert this binary array to an integer and index 2^(spectator qubits) contexts\n",
    "        # context = self.contexts[np.packbits(observation, bitorder='little')[0]] \n",
    "        # for now, we only have two contexts (+ vs -), and so we consider spectators to be indistinguishable noise polling devices\n",
    "        # in the future, we may consider noise gradients and so we do indeed need to track the specific arrangement\n",
    "        context_idx = 1 if np.sum(observation) > self.num_context_spectators / 2 else 0\n",
    "        context = self.contexts[context_idx]\n",
    "        context.resample_rewards()\n",
    "        \n",
    "        ## to update the gamma or action space, use the functions below e.g. _update_action_distribution_width\n",
    "        ## this will ensure that the contextual history is reset once the historical correspondence between arms and particular thetas is nullified\n",
    "        \n",
    "        # (quantile, uniform action distribution width, rotational bias)\n",
    "        return (np.argmax(context.reward_posterior_samples), self.action_distribution_width, self.action_contextual_bias)\n",
    "    \n",
    "    def _update_gammas(self, gamma):\n",
    "        for context in self.contexts:\n",
    "            context.update_gamma(gamma)\n",
    "        \n",
    "    def _update_action_distribution_width(self, width):\n",
    "        self.action_distribution_width = width\n",
    "        for context in self.contexts:\n",
    "            context.reset()\n",
    "        \n",
    "    def _update_contextual_bias(self, bias):\n",
    "        self.update_contextual_bias = bias\n",
    "        for context in self.contexts:\n",
    "            context.reset()\n",
    "    \n",
    "    def update(self, action, reward, observation):\n",
    "        arm, _, _ = action\n",
    "        context_idx = 1 if np.sum(observation) > self.num_context_spectators / 2 else 0\n",
    "        context = self.contexts[context_idx]\n",
    "        context.update_posterior(reward, arm)\n",
    "            \n",
    "    def save_reward(self, reward):\n",
    "        self.rewards.append(reward)\n",
    "\n",
    "    def save_fidelity(self, fidelity):\n",
    "        self.fidelity.append(fidelity)\n",
    "        \n",
    "    def save_control_fidelity(self, fidelity):\n",
    "        self.control_fidelity.append(fidelity)"
   ]
  },
  {
   "cell_type": "code",
   "execution_count": 16,
   "metadata": {},
   "outputs": [],
   "source": [
    "M = 100\n",
    "\n",
    "\n",
    "# add some random harmonics\n",
    "# time_dependent_fn = np.vectorize(lambda x: (2/5) * np.pi * np.sin(2 * np.pi * x / M))\n",
    "error_samples = np.random.uniform(-np.pi / 2, np.pi / 2, M) # + time_dependent_fn(np.arange(M))"
   ]
  },
  {
   "cell_type": "code",
   "execution_count": 17,
   "metadata": {},
   "outputs": [],
   "source": [
    "from spectator_env import SpectatorEnv\n",
    "\n",
    "# describes MDP\n",
    "# - states are given in terms of a 64 bit measurement outcomes\n",
    "# - action space is given by (num_arms, uniform_action_space_width, contextual_measurement_bias) i.e. \\ZZ_{num_arms} \\times (U(1) \\times U(1)) \\times U(1)\n",
    "env = SpectatorEnv(error_samples, num_context_spectators=64, num_reward_spectators=64, num_arms=5)\n",
    "\n",
    "# from stable_baselines.common.env_checker import check_env\n",
    "# check_env(env)"
   ]
  },
  {
   "cell_type": "code",
   "execution_count": 18,
   "metadata": {},
   "outputs": [],
   "source": [
    "# print(error_samples)"
   ]
  },
  {
   "cell_type": "code",
   "execution_count": 19,
   "metadata": {},
   "outputs": [
    {
     "data": {
      "image/png": "[encoded data removed]",
      "text/plain": [
       "<Figure size 1440x360 with 2 Axes>"
      ]
     },
     "metadata": {
      "needs_background": "light"
     },
     "output_type": "display_data"
    }
   ],
   "source": [
    "start=timer()\n",
    "\n",
    "ts = TS(env, initial_gamma=1.0)\n",
    "\n",
    "episode_reward = 0\n",
    "episode_fidelity = []\n",
    "control_fidelity = []\n",
    "\n",
    "MAX_FRAMES = 5 * M\n",
    "\n",
    "# \"episodes\" are a reasonable way to think about learning a periodic time dependent function\n",
    "# max frames = episode length * num episodes\n",
    "# episodes are identical sequences of training data\n",
    "observation = env.reset()\n",
    "for frame_idx in range(1, MAX_FRAMES + 1):\n",
    "#     epsilon = config.epsilon_by_frame(frame_idx)\n",
    "    \n",
    "    action = ts.get_action(observation)\n",
    "    prev_observation = observation\n",
    "#     print(\"prev obs: \", prev_observation)\n",
    "#     print(\"action: \", action)\n",
    "    observation, reward, done, info = env.step(action)\n",
    "#     print(\"reward: \", reward)\n",
    "    observation = None if done else observation\n",
    "\n",
    "    # generally, in RL we would consider r(s | s', a) given a state transition s' -> s due to action a\n",
    "    # for now, we are only interested in r(s', a)\n",
    "    ts.update(action, reward, prev_observation)\n",
    "#     print(ts.contexts[0].S, ts.contexts[0].F)\n",
    "#     print(ts.contexts[1].S, ts.contexts[1].F)\n",
    "    episode_reward += reward\n",
    "    \n",
    "    episode_fidelity.append(info[0])\n",
    "    control_fidelity.append(info[1])\n",
    "\n",
    "    if done:\n",
    "        observation = env.reset()\n",
    "        ts.save_reward(episode_reward)\n",
    "        ts.save_fidelity(np.mean(episode_fidelity))\n",
    "        ts.save_control_fidelity(np.mean(control_fidelity))\n",
    "        episode_reward = 0\n",
    "        episode_fidelity = []\n",
    "        control_fidelity = []\n",
    "        \n",
    "        # plot grouped by episode\n",
    "        plot(frame_idx, ts.rewards, ts.fidelity, ts.control_fidelity, timedelta(seconds=int(timer()-start)))\n",
    "        \n",
    "\n",
    "env.close()\n"
   ]
  },
  {
   "cell_type": "code",
   "execution_count": null,
   "metadata": {},
   "outputs": [],
   "source": [
    "print(ts.contexts[0].S, ts.contexts[0].F)\n",
    "print(ts.contexts[0].reward_posterior_samples)"
   ]
  },
  {
   "cell_type": "code",
   "execution_count": null,
   "metadata": {},
   "outputs": [],
   "source": [
    "print(ts.contexts[1].S, ts.contexts[1].F)\n",
    "print(ts.contexts[1].reward_posterior_samples)"
   ]
  },
  {
   "cell_type": "code",
   "execution_count": null,
   "metadata": {},
   "outputs": [],
   "source": []
  }
 ],
 "metadata": {
  "kernelspec": {
   "display_name": "Python 3",
   "language": "python",
   "name": "python3"
  },
  "language_info": {
   "codemirror_mode": {
    "name": "ipython",
    "version": 3
   },
   "file_extension": ".py",
   "mimetype": "text/x-python",
   "name": "python",
   "nbconvert_exporter": "python",
   "pygments_lexer": "ipython3",
   "version": "3.7.4"
  }
 },
 "nbformat": 4,
 "nbformat_minor": 4
}
