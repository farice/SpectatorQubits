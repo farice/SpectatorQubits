{
 "cells": [
  {
   "cell_type": "code",
   "execution_count": 7,
   "metadata": {},
   "outputs": [],
   "source": [
    "from qiskit import QuantumCircuit, QuantumRegister, ClassicalRegister\n",
    "from qiskit import Aer, BasicAer, execute\n",
    "import matplotlib.pyplot as plt\n",
    "import numpy as np\n",
    "from tqdm import tqdm, trange\n",
    "from qiskit.quantum_info import process_fidelity\n",
    "import random\n",
    "import numba\n",
    "\n",
    "%matplotlib inline"
   ]
  },
  {
   "cell_type": "markdown",
   "metadata": {},
   "source": [
    "Things I need to look at:\n",
    "1. Assume a function f(x) that generates the gaussian distributions (relatively well behaved). How does a strategy like this works then?\n",
    "My assumption is that the more stochastic the errors are in the exploration phase, the better MAB will learn. If MAB sees more data that are not similar then it'll train better. \n",
    "\n",
    "2. Policy gradient \n",
    "Assume the action space is not discrete but use gradient descent to find out the best action.\n",
    "\n",
    "3. Put error bars on that avergae plot. \n",
    "4. Time varying error. How do we balance between exploraion and exploitation. \n",
    "Use hypothesis testing. Null hypothesis is that the error does not change, alternative hypothesis is that it changes. Use how fast v0_mean_estimate or v1_mean_estimate changes to calculate some p value that will tell us that the error is changing. \n",
    "5. Optimize MAB parameters. \n",
    "6. How to extend this to more complicated error types?\n",
    "7. Find composite pulses resistant against over-rotation and phase error."
   ]
  },
  {
   "cell_type": "code",
   "execution_count": 9,
   "metadata": {},
   "outputs": [],
   "source": [
    "arm=10"
   ]
  },
  {
   "cell_type": "code",
   "execution_count": 11,
   "metadata": {},
   "outputs": [],
   "source": [
    "@numba.jit\n",
    "def mab(mu,error,N,sigma=0.1,arm=10):  \n",
    "    outcome=np.zeros((N))\n",
    "    v0_angle = -np.linspace(0,1,arm)\n",
    "    v1_angle = -np.linspace(0,1,arm)\n",
    "    v0_mean_estimate = np.ones(arm)/arm\n",
    "    v1_mean_estimate = np.ones(arm)/arm\n",
    "    processfid=np.zeros((N))\n",
    "    processfid_nocorrection=np.zeros((N))\n",
    "    for i in range(N):\n",
    "        qr_s1=QuantumRegister(1)\n",
    "        qr_s2=QuantumRegister(1)\n",
    "        cr_s1=ClassicalRegister(1)\n",
    "        cr_s2=ClassicalRegister(1)\n",
    "        specQ_s1=QuantumCircuit(qr_s1,cr_s1)\n",
    "        specQ_s2=QuantumCircuit(qr_s2,cr_s2)\n",
    "\n",
    "        specQ_s1.h(qr_s1)\n",
    "        specQ_s2.h(qr_s2)\n",
    "\n",
    "        specQ_s1.rz(error[i],qr_s1)\n",
    "        specQ_s2.rz(error[i],qr_s2)\n",
    "\n",
    "        specQ_s1.h(qr_s1)\n",
    "\n",
    "        specQ_s1.measure(qr_s1,cr_s1)\n",
    "        temp_1=execute(specQ_s1,backend=BasicAer.get_backend('qasm_simulator'),shots=1)\n",
    "        temp_2=[*temp_1.result().get_counts().keys()]\n",
    "        temp_3=int(temp_2[0])\n",
    "        outcome[i]=temp_3\n",
    "        #contextual multi-arm bandit\n",
    "\n",
    "        if i <= N/5:\n",
    "            #uniformly explore\n",
    "            if (temp_3 == 0):\n",
    "                #choose action unfiformly at random\n",
    "                a = random.randint(0,arm-1)\n",
    "\n",
    "                specQ_s2.rz(v0_angle[a],qr_s2)\n",
    "\n",
    "            elif (temp_3 == 1):\n",
    "                #choose action uniformly at random\n",
    "                a = random.randint(0,arm-1)\n",
    "                specQ_s2.rz(v1_angle[a],qr_s2)\n",
    "        else:\n",
    "            # eph greedy \n",
    "\n",
    "            if (temp_3 == 0):\n",
    "                #choose action according to eph greedy\n",
    "                eph = random.randint(1,100)\n",
    "\n",
    "                if (eph<=5):\n",
    "                    a=random.randint(0,arm-1)\n",
    "\n",
    "                    specQ_s2.rz(v0_angle[a],qr_s2)\n",
    "                elif (eph>5):\n",
    "                    a=np.argmax(v0_mean_estimate)\n",
    "\n",
    "                    specQ_s2.rz(v0_angle[a],qr_s2)\n",
    "\n",
    "\n",
    "\n",
    "\n",
    "            elif (temp_3 == 1):\n",
    "                #choose action according to eph greedy\n",
    "\n",
    "                eph = random.randint(1,100)\n",
    "\n",
    "                if (eph<=5):\n",
    "                    a=random.randint(0,arm-1)\n",
    "\n",
    "                    specQ_s2.rz(v1_angle[a],qr_s2)\n",
    "                elif (eph>1):\n",
    "                    a=np.argmax(v1_mean_estimate)\n",
    "\n",
    "                    specQ_s2.rz(v1_angle[a],qr_s2)\n",
    "\n",
    "\n",
    "        #get reward by applying the action on s2\n",
    "        #specQ_s2.sdg(qr_s2)\n",
    "        specQ_s2.h(qr_s2)\n",
    "        specQ_s2.measure(qr_s2,cr_s2)\n",
    "        temp_4=execute(specQ_s2,backend=BasicAer.get_backend('qasm_simulator'),shots=1)\n",
    "        temp_5=[*temp_4.result().get_counts().keys()]\n",
    "        temp_6=int(temp_5[0])\n",
    "        #print(\"Second spector meas\",temp_6)\n",
    "        #update estimate of the arm\n",
    "        if (temp_6 == 0):\n",
    "            if (temp_3 ==0):\n",
    "                v0_mean_estimate[a]=v0_mean_estimate[a]+0.01\n",
    "            elif (temp_3 ==1):\n",
    "                v0_mean_estimate[a]=v0_mean_estimate[a]-0.01\n",
    "        elif (temp_6 == 1):\n",
    "            if (temp_3==0):\n",
    "                v1_mean_estimate[a]=v1_mean_estimate[a]+0.01\n",
    "            elif (temp_3==1):\n",
    "                v1_mean_estimate[a]=v1_mean_estimate[a]-0.01\n",
    "\n",
    "        #measure the process fidelity on data\n",
    "        si=np.array([[1,0],[0,1]])\n",
    "        sz=np.array([[1,0],[0,-1]])\n",
    "        def szerror(theta):\n",
    "            return np.cos(theta/2)*si+1.j*np.sin(theta/2)*sz\n",
    "        \n",
    "        \n",
    "        if (int(temp_3)==0):\n",
    "            equiv=np.matmul(szerror(error[i]),szerror(v0_angle[a]))\n",
    "            #print(\"A\")\n",
    "            processfid[i]=process_fidelity(equiv,si)\n",
    "                #processfid[i]=np.trace(np.matmul(np.transpose(equiv),si))\n",
    "        elif (int(temp_3)==1):\n",
    "            equiv=np.matmul(szerror(error[i]),szerror(v1_angle[a]))\n",
    "            processfid[i]=process_fidelity(equiv,si)\n",
    "            #print(\"B\")\n",
    "                #processfid[i]=np.trace(np.matmul(np.transpose(equiv),si))\n",
    "        processfid_nocorrection[i]=process_fidelity(szerror(error[i]),si)\n",
    "            #processfid_nocorrection[i]=np.trace(np.matmul(np.transpose(szerror(error[i])),si))\n",
    "    return v0_angle[np.argmax(v0_mean_estimate)], v1_angle[np.argmax(v1_mean_estimate)], processfid, processfid_nocorrection, outcome, v1_mean_estimate, v0_mean_estimate "
   ]
  },
  {
   "cell_type": "code",
   "execution_count": 12,
   "metadata": {},
   "outputs": [],
   "source": [
    "@numba.jit\n",
    "def mab_mod(mu,error,N,sigma=0.1,arm=10):  \n",
    "    outcome=np.zeros((N))\n",
    "    v0_angle = -np.linspace(0,1,arm)\n",
    "    v1_angle = -np.linspace(0,1,arm)\n",
    "    v0_mean_estimate = np.ones(arm)/arm\n",
    "    v1_mean_estimate = np.ones(arm)/arm\n",
    "    processfid=np.zeros((N))\n",
    "    processfid_nocorrection=np.zeros((N))\n",
    "    for i in range(N):\n",
    "        qr_s1=QuantumRegister(1)\n",
    "        qr_s2=QuantumRegister(1)\n",
    "        cr_s1=ClassicalRegister(1)\n",
    "        cr_s2=ClassicalRegister(1)\n",
    "        specQ_s1=QuantumCircuit(qr_s1,cr_s1)\n",
    "        specQ_s2=QuantumCircuit(qr_s2,cr_s2)\n",
    "\n",
    "        specQ_s1.h(qr_s1)\n",
    "        specQ_s2.h(qr_s2)\n",
    "\n",
    "        specQ_s1.rz(error[i],qr_s1)\n",
    "        specQ_s2.rz(error[i],qr_s2)\n",
    "\n",
    "        specQ_s1.h(qr_s1)\n",
    "\n",
    "        specQ_s1.measure(qr_s1,cr_s1)\n",
    "        temp_1=execute(specQ_s1,backend=BasicAer.get_backend('qasm_simulator'),shots=1)\n",
    "        temp_2=[*temp_1.result().get_counts().keys()]\n",
    "        temp_3=int(temp_2[0])\n",
    "        outcome[i]=temp_3\n",
    "\n",
    "        #contextual multi-arm bandit\n",
    "\n",
    "        if i <= N/5:\n",
    "            #uniformly explore\n",
    "            if (temp_3 == 0):\n",
    "                #choose action unfiformly at random\n",
    "                a = random.randint(0,arm-1)\n",
    "\n",
    "                specQ_s2.rz(v0_angle[a],qr_s2)\n",
    "\n",
    "            elif (temp_3 == 1):\n",
    "                #choose action uniformly at random\n",
    "                a = random.randint(0,arm-1)\n",
    "                specQ_s2.rz(v1_angle[a],qr_s2)\n",
    "        else:\n",
    "            # eph greedy \n",
    "\n",
    "            if (temp_3 == 0):\n",
    "                #choose action according to eph greedy\n",
    "                eph = random.randint(1,100)\n",
    "\n",
    "                if (eph<=5):\n",
    "                    a=random.randint(0,arm-1)\n",
    "\n",
    "                    specQ_s2.rz(v0_angle[a],qr_s2)\n",
    "                elif (eph>5):\n",
    "                    a=np.argmax(v0_mean_estimate)\n",
    "\n",
    "                    specQ_s2.rz(v0_angle[a],qr_s2)\n",
    "\n",
    "            elif (temp_3 == 1):\n",
    "                #choose action according to eph greedy\n",
    "\n",
    "                eph = random.randint(1,100)\n",
    "\n",
    "                if (eph<=5):\n",
    "                    a=random.randint(0,arm-1)\n",
    "\n",
    "                    specQ_s2.rz(v1_angle[a],qr_s2)\n",
    "                elif (eph>1):\n",
    "                    a=np.argmax(v1_mean_estimate)\n",
    "\n",
    "                    specQ_s2.rz(v1_angle[a],qr_s2)\n",
    "\n",
    "\n",
    "        #get reward by applying the action on s2\n",
    "        #specQ_s2.sdg(qr_s2)\n",
    "        specQ_s2.h(qr_s2)\n",
    "        specQ_s2.measure(qr_s2,cr_s2)\n",
    "        temp_4=execute(specQ_s2,backend=BasicAer.get_backend('qasm_simulator'),shots=1)\n",
    "        temp_5=[*temp_4.result().get_counts().keys()]\n",
    "        temp_6=int(temp_5[0])\n",
    "        #print(\"Second spector meas\",temp_6)\n",
    "        #update estimate of the arm\n",
    "        if (temp_6 == 0):\n",
    "            if (temp_3 ==0):\n",
    "                v0_mean_estimate[a]=v0_mean_estimate[a]+0.01\n",
    "            elif (temp_3 ==1):\n",
    "                v0_mean_estimate[a]=v0_mean_estimate[a]-0.01\n",
    "        elif (temp_6 == 1):\n",
    "            if (temp_3==0):\n",
    "                v1_mean_estimate[a]=v1_mean_estimate[a]+0.01\n",
    "            elif (temp_3==1):\n",
    "                v1_mean_estimate[a]=v1_mean_estimate[a]-0.01\n",
    "\n",
    "        #measure the process fidelity on data\n",
    "        si=np.array([[1,0],[0,1]])\n",
    "        sz=np.array([[1,0],[0,-1]])\n",
    "        def szerror(theta):\n",
    "            return np.cos(theta/2)*si+1.j*np.sin(theta/2)*sz\n",
    "        \n",
    "        \n",
    "#         if (int(temp_3)==0):\n",
    "#             equiv=np.matmul(szerror(error[i]),szerror(v0_angle[a]))\n",
    "#             #print(\"A\")\n",
    "#             processfid[i]=process_fidelity(equiv,si)\n",
    "#                 #processfid[i]=np.trace(np.matmul(np.transpose(equiv),si))\n",
    "#         elif (int(temp_3)==1):\n",
    "#             equiv=np.matmul(szerror(error[i]),szerror(v1_angle[a]))\n",
    "#             processfid[i]=process_fidelity(equiv,si)\n",
    "#             #print(\"B\")\n",
    "#                 #processfid[i]=np.trace(np.matmul(np.transpose(equiv),si))\n",
    "#         processfid_nocorrection[i]=process_fidelity(szerror(error[i]),si)\n",
    "            #processfid_nocorrection[i]=np.trace(np.matmul(np.transpose(szerror(error[i])),si))\n",
    "    return v0_angle[np.argmax(v0_mean_estimate)], v1_angle[np.argmax(v1_mean_estimate)] ,outcome\n",
    "\n",
    "    \n",
    "        \n",
    "        \n",
    "    \n",
    "    \n",
    "    \n",
    "    \n",
    "    \n",
    "    \n",
    "    \n",
    "    "
   ]
  },
  {
   "cell_type": "code",
   "execution_count": 13,
   "metadata": {},
   "outputs": [
    {
     "name": "stderr",
     "output_type": "stream",
     "text": [
      "  0%|          | 0/10 [00:00<?, ?it/s]\n"
     ]
    },
    {
     "ename": "UnsupportedError",
     "evalue": "Failed in object mode pipeline (step: analyzing bytecode)\n\u001b[1mUse of unknown opcode 'BUILD_LIST_UNPACK'\n\u001b[1m\nFile \"<ipython-input-12-ad8aa4d4a129>\", line 30:\u001b[0m\n\u001b[1mdef mab_mod(mu,error,N,sigma=0.1,arm=10):  \n    <source elided>\n        temp_1=execute(specQ_s1,backend=BasicAer.get_backend('qasm_simulator'),shots=1)\n\u001b[1m        temp_2=[*temp_1.result().get_counts().keys()]\n\u001b[0m        \u001b[1m^\u001b[0m\u001b[0m\n\u001b[0m\n\nUnsupported functionality was found in the code Numba was trying to compile.\n\nIf this functionality is important to you please file a feature request at:\nhttps://github.com/numba/numba/issues/new\n",
     "output_type": "error",
     "traceback": [
      "\u001b[0;31m---------------------------------------------------------------------------\u001b[0m",
      "\u001b[0;31mUnsupportedError\u001b[0m                          Traceback (most recent call last)",
      "\u001b[0;32m<ipython-input-13-76ff5f193fc1>\u001b[0m in \u001b[0;36m<module>\u001b[0;34m\u001b[0m\n\u001b[1;32m      5\u001b[0m     \u001b[0mN\u001b[0m\u001b[0;34m=\u001b[0m\u001b[0;36m10000\u001b[0m\u001b[0;34m\u001b[0m\u001b[0m\n\u001b[1;32m      6\u001b[0m     \u001b[0merror\u001b[0m \u001b[0;34m=\u001b[0m \u001b[0mnp\u001b[0m\u001b[0;34m.\u001b[0m\u001b[0mrandom\u001b[0m\u001b[0;34m.\u001b[0m\u001b[0mnormal\u001b[0m\u001b[0;34m(\u001b[0m\u001b[0mmu_list\u001b[0m\u001b[0;34m[\u001b[0m\u001b[0mi\u001b[0m\u001b[0;34m]\u001b[0m\u001b[0;34m,\u001b[0m\u001b[0;36m0.1\u001b[0m\u001b[0;34m,\u001b[0m\u001b[0mN\u001b[0m\u001b[0;34m)\u001b[0m\u001b[0;34m\u001b[0m\u001b[0m\n\u001b[0;32m----> 7\u001b[0;31m     \u001b[0mestimates\u001b[0m\u001b[0;34m[\u001b[0m\u001b[0mi\u001b[0m\u001b[0;34m]\u001b[0m\u001b[0;34m[\u001b[0m\u001b[0;36m0\u001b[0m\u001b[0;34m]\u001b[0m\u001b[0;34m,\u001b[0m\u001b[0mestimates\u001b[0m\u001b[0;34m[\u001b[0m\u001b[0mi\u001b[0m\u001b[0;34m]\u001b[0m\u001b[0;34m[\u001b[0m\u001b[0;36m1\u001b[0m\u001b[0;34m]\u001b[0m\u001b[0;34m,\u001b[0m \u001b[0moutcome\u001b[0m\u001b[0;34m[\u001b[0m\u001b[0mi\u001b[0m\u001b[0;34m]\u001b[0m\u001b[0;34m=\u001b[0m\u001b[0mmab_mod\u001b[0m\u001b[0;34m(\u001b[0m\u001b[0mmu_list\u001b[0m\u001b[0;34m[\u001b[0m\u001b[0mi\u001b[0m\u001b[0;34m]\u001b[0m\u001b[0;34m,\u001b[0m\u001b[0merror\u001b[0m\u001b[0;34m,\u001b[0m\u001b[0mN\u001b[0m\u001b[0;34m)\u001b[0m\u001b[0;34m\u001b[0m\u001b[0m\n\u001b[0m",
      "\u001b[0;32m~/Library/Python/3.6/lib/python/site-packages/numba/dispatcher.py\u001b[0m in \u001b[0;36m_compile_for_args\u001b[0;34m(self, *args, **kws)\u001b[0m\n\u001b[1;32m    402\u001b[0m         \u001b[0;32mexcept\u001b[0m \u001b[0merrors\u001b[0m\u001b[0;34m.\u001b[0m\u001b[0mUnsupportedError\u001b[0m \u001b[0;32mas\u001b[0m \u001b[0me\u001b[0m\u001b[0;34m:\u001b[0m\u001b[0;34m\u001b[0m\u001b[0m\n\u001b[1;32m    403\u001b[0m             \u001b[0;31m# Something unsupported is present in the user code, add help info\u001b[0m\u001b[0;34m\u001b[0m\u001b[0;34m\u001b[0m\u001b[0m\n\u001b[0;32m--> 404\u001b[0;31m             \u001b[0merror_rewrite\u001b[0m\u001b[0;34m(\u001b[0m\u001b[0me\u001b[0m\u001b[0;34m,\u001b[0m \u001b[0;34m'unsupported_error'\u001b[0m\u001b[0;34m)\u001b[0m\u001b[0;34m\u001b[0m\u001b[0m\n\u001b[0m\u001b[1;32m    405\u001b[0m         except (errors.NotDefinedError, errors.RedefinedError,\n\u001b[1;32m    406\u001b[0m                 errors.VerificationError) as e:\n",
      "\u001b[0;32m~/Library/Python/3.6/lib/python/site-packages/numba/dispatcher.py\u001b[0m in \u001b[0;36merror_rewrite\u001b[0;34m(e, issue_type)\u001b[0m\n\u001b[1;32m    342\u001b[0m                 \u001b[0;32mraise\u001b[0m \u001b[0me\u001b[0m\u001b[0;34m\u001b[0m\u001b[0m\n\u001b[1;32m    343\u001b[0m             \u001b[0;32melse\u001b[0m\u001b[0;34m:\u001b[0m\u001b[0;34m\u001b[0m\u001b[0m\n\u001b[0;32m--> 344\u001b[0;31m                 \u001b[0mreraise\u001b[0m\u001b[0;34m(\u001b[0m\u001b[0mtype\u001b[0m\u001b[0;34m(\u001b[0m\u001b[0me\u001b[0m\u001b[0;34m)\u001b[0m\u001b[0;34m,\u001b[0m \u001b[0me\u001b[0m\u001b[0;34m,\u001b[0m \u001b[0;32mNone\u001b[0m\u001b[0;34m)\u001b[0m\u001b[0;34m\u001b[0m\u001b[0m\n\u001b[0m\u001b[1;32m    345\u001b[0m \u001b[0;34m\u001b[0m\u001b[0m\n\u001b[1;32m    346\u001b[0m         \u001b[0margtypes\u001b[0m \u001b[0;34m=\u001b[0m \u001b[0;34m[\u001b[0m\u001b[0;34m]\u001b[0m\u001b[0;34m\u001b[0m\u001b[0m\n",
      "\u001b[0;32m~/Library/Python/3.6/lib/python/site-packages/numba/six.py\u001b[0m in \u001b[0;36mreraise\u001b[0;34m(tp, value, tb)\u001b[0m\n\u001b[1;32m    666\u001b[0m             \u001b[0mvalue\u001b[0m \u001b[0;34m=\u001b[0m \u001b[0mtp\u001b[0m\u001b[0;34m(\u001b[0m\u001b[0;34m)\u001b[0m\u001b[0;34m\u001b[0m\u001b[0m\n\u001b[1;32m    667\u001b[0m         \u001b[0;32mif\u001b[0m \u001b[0mvalue\u001b[0m\u001b[0;34m.\u001b[0m\u001b[0m__traceback__\u001b[0m \u001b[0;32mis\u001b[0m \u001b[0;32mnot\u001b[0m \u001b[0mtb\u001b[0m\u001b[0;34m:\u001b[0m\u001b[0;34m\u001b[0m\u001b[0m\n\u001b[0;32m--> 668\u001b[0;31m             \u001b[0;32mraise\u001b[0m \u001b[0mvalue\u001b[0m\u001b[0;34m.\u001b[0m\u001b[0mwith_traceback\u001b[0m\u001b[0;34m(\u001b[0m\u001b[0mtb\u001b[0m\u001b[0;34m)\u001b[0m\u001b[0;34m\u001b[0m\u001b[0m\n\u001b[0m\u001b[1;32m    669\u001b[0m         \u001b[0;32mraise\u001b[0m \u001b[0mvalue\u001b[0m\u001b[0;34m\u001b[0m\u001b[0m\n\u001b[1;32m    670\u001b[0m \u001b[0;34m\u001b[0m\u001b[0m\n",
      "\u001b[0;31mUnsupportedError\u001b[0m: Failed in object mode pipeline (step: analyzing bytecode)\n\u001b[1mUse of unknown opcode 'BUILD_LIST_UNPACK'\n\u001b[1m\nFile \"<ipython-input-12-ad8aa4d4a129>\", line 30:\u001b[0m\n\u001b[1mdef mab_mod(mu,error,N,sigma=0.1,arm=10):  \n    <source elided>\n        temp_1=execute(specQ_s1,backend=BasicAer.get_backend('qasm_simulator'),shots=1)\n\u001b[1m        temp_2=[*temp_1.result().get_counts().keys()]\n\u001b[0m        \u001b[1m^\u001b[0m\u001b[0m\n\u001b[0m\n\nUnsupported functionality was found in the code Numba was trying to compile.\n\nIf this functionality is important to you please file a feature request at:\nhttps://github.com/numba/numba/issues/new\n"
     ]
    }
   ],
   "source": [
    "mu_list=np.linspace(0.1,1,10)\n",
    "estimates=np.zeros((len(mu_list),2))\n",
    "outcome=np.zeros((len(mu_list),10000))\n",
    "for i in trange(len(mu_list)):\n",
    "    N=10000\n",
    "    error = np.random.normal(mu_list[i],0.1,N)\n",
    "    estimates[i][0],estimates[i][1], outcome[i]=mab_mod(mu_list[i],error,N) "
   ]
  },
  {
   "cell_type": "code",
   "execution_count": 8,
   "metadata": {},
   "outputs": [],
   "source": [
    "N=10000\n",
    "error = np.random.normal(0.5,0.1,N)"
   ]
  },
  {
   "cell_type": "code",
   "execution_count": 9,
   "metadata": {},
   "outputs": [
    {
     "name": "stderr",
     "output_type": "stream",
     "text": [
      "/Users/swarnadeepmajumder/anaconda3/envs/qiskit/lib/python3.7/site-packages/ipykernel_launcher.py:111: ComplexWarning: Casting complex values to real discards the imaginary part\n",
      "/Users/swarnadeepmajumder/anaconda3/envs/qiskit/lib/python3.7/site-packages/ipykernel_launcher.py:118: ComplexWarning: Casting complex values to real discards the imaginary part\n",
      "/Users/swarnadeepmajumder/anaconda3/envs/qiskit/lib/python3.7/site-packages/ipykernel_launcher.py:115: ComplexWarning: Casting complex values to real discards the imaginary part\n"
     ]
    }
   ],
   "source": [
    "#N=10000\n",
    "#error = np.random.normal(0.8,0.1,N)\n",
    "estimates_fixed=np.zeros((1,2))\n",
    "processfid_av=np.zeros((N))\n",
    "outcome=np.zeros((1,N))\n",
    "processfid_nocorrection=np.zeros((N))\n",
    "v0_mean_estimate = np.zeros(5)\n",
    "v1_mean_estimate = np.zeros(5)\n",
    "estimates_fixed[0][0],estimates_fixed[0][1], processfid_av, processfid_nocorrection, outcome, v0_mean_estimate, v1_mean_estimate=mab(0.8,error,N=N) "
   ]
  },
  {
   "cell_type": "code",
   "execution_count": 5,
   "metadata": {},
   "outputs": [
    {
     "data": {
      "text/plain": [
       "[<matplotlib.lines.Line2D at 0x12b415050>,\n",
       " <matplotlib.lines.Line2D at 0x12b415390>]"
      ]
     },
     "execution_count": 5,
     "metadata": {},
     "output_type": "execute_result"
    },
    {
     "data": {
      "image/png": "[encoded data removed]",
      "text/plain": [
       "<Figure size 432x288 with 1 Axes>"
      ]
     },
     "metadata": {
      "needs_background": "light"
     },
     "output_type": "display_data"
    }
   ],
   "source": [
    "alpha=np.linspace(1,N,N)\n",
    "plt.plot(alpha,processfid_nocorrection,'r.',alpha,processfid_av,'g.')"
   ]
  },
  {
   "cell_type": "code",
   "execution_count": 10,
   "metadata": {},
   "outputs": [
    {
     "data": {
      "text/plain": [
       "[<matplotlib.lines.Line2D at 0x12b6d1290>,\n",
       " <matplotlib.lines.Line2D at 0x12b6d1590>]"
      ]
     },
     "execution_count": 10,
     "metadata": {},
     "output_type": "execute_result"
    },
    {
     "data": {
      "image/png": "[encoded data removed]",
      "text/plain": [
       "<Figure size 432x288 with 1 Axes>"
      ]
     },
     "metadata": {
      "needs_background": "light"
     },
     "output_type": "display_data"
    }
   ],
   "source": [
    "alpha=np.linspace(1,N,N)\n",
    "plt.plot(alpha,processfid_nocorrection,'r.',alpha,processfid_av,'g.')"
   ]
  },
  {
   "cell_type": "code",
   "execution_count": 68,
   "metadata": {},
   "outputs": [
    {
     "data": {
      "text/plain": [
       "array([0.  , 0.25, 0.5 , 0.75, 1.  ])"
      ]
     },
     "execution_count": 68,
     "metadata": {},
     "output_type": "execute_result"
    }
   ],
   "source": [
    "mu=0.5\n",
    "sigma=0.1\n",
    "arm=20\n",
    "np.linspace(0,1,5)"
   ]
  },
  {
   "cell_type": "code",
   "execution_count": 151,
   "metadata": {},
   "outputs": [
    {
     "data": {
      "text/plain": [
       "-1.0"
      ]
     },
     "execution_count": 151,
     "metadata": {},
     "output_type": "execute_result"
    }
   ],
   "source": [
    "estimates_fixed[0][1]"
   ]
  },
  {
   "cell_type": "code",
   "execution_count": 152,
   "metadata": {},
   "outputs": [
    {
     "data": {
      "text/plain": [
       "-1.0"
      ]
     },
     "execution_count": 152,
     "metadata": {},
     "output_type": "execute_result"
    }
   ],
   "source": [
    "estimates_fixed[0][0]"
   ]
  },
  {
   "cell_type": "code",
   "execution_count": 93,
   "metadata": {},
   "outputs": [
    {
     "data": {
      "text/plain": [
       "array([0.37, 6.92, 0.38, 0.41, 0.36])"
      ]
     },
     "execution_count": 93,
     "metadata": {},
     "output_type": "execute_result"
    }
   ],
   "source": [
    "v1_mean_estimate"
   ]
  },
  {
   "cell_type": "code",
   "execution_count": 90,
   "metadata": {},
   "outputs": [],
   "source": [
    "mu=0.5\n",
    "sigma=0.1\n",
    "theta_0=-0.5*np.arctan((np.exp(-2*sigma**2)*np.sin(2*mu)-0.5+0.5*np.exp(-8*sigma**2)*np.cos(4*mu))/(np.exp(-2*sigma**2)*np.cos(2*mu)-0.25*np.exp(-8*sigma**2)*np.sin(4*mu)))\n",
    "theta_1=-0.5*np.arctan((np.exp(-2*sigma**2)*np.sin(2*mu)-0.5+0.5*np.exp(-8*sigma**2)*np.cos(4*mu))/(np.exp(-2*sigma**2)*np.cos(2*mu)+0.25*np.exp(-8*sigma**2)*np.sin(4*mu)))"
   ]
  },
  {
   "cell_type": "code",
   "execution_count": 92,
   "metadata": {},
   "outputs": [
    {
     "data": {
      "text/plain": [
       "-0.08880522176233986"
      ]
     },
     "execution_count": 92,
     "metadata": {},
     "output_type": "execute_result"
    }
   ],
   "source": [
    "theta_1"
   ]
  },
  {
   "cell_type": "code",
   "execution_count": 58,
   "metadata": {},
   "outputs": [
    {
     "data": {
      "text/plain": [
       "array([0.        , 0.06666667, 0.13333333, 0.2       , 0.26666667,\n",
       "       0.33333333, 0.4       , 0.46666667, 0.53333333, 0.6       ])"
      ]
     },
     "execution_count": 58,
     "metadata": {},
     "output_type": "execute_result"
    }
   ],
   "source": [
    "v1_angle"
   ]
  },
  {
   "cell_type": "code",
   "execution_count": 76,
   "metadata": {},
   "outputs": [
    {
     "data": {
      "text/plain": [
       "(array([   5.,   75.,  403., 1339., 2526., 2868., 1851.,  746.,  164.,\n",
       "          23.]),\n",
       " array([0.11323111, 0.18748652, 0.26174194, 0.33599735, 0.41025276,\n",
       "        0.48450818, 0.55876359, 0.633019  , 0.70727442, 0.78152983,\n",
       "        0.85578524]),\n",
       " <a list of 10 Patch objects>)"
      ]
     },
     "execution_count": 76,
     "metadata": {},
     "output_type": "execute_result"
    },
    {
     "data": {
      "image/png": "[encoded data removed]",
      "text/plain": [
       "<Figure size 432x288 with 1 Axes>"
      ]
     },
     "metadata": {
      "needs_background": "light"
     },
     "output_type": "display_data"
    }
   ],
   "source": [
    "plt.hist(error)"
   ]
  },
  {
   "cell_type": "code",
   "execution_count": 85,
   "metadata": {},
   "outputs": [
    {
     "data": {
      "text/plain": [
       "array([0.106, 3.332, 0.118, 0.133, 0.114, 0.115, 0.111, 0.119, 0.116,\n",
       "       0.123])"
      ]
     },
     "execution_count": 85,
     "metadata": {},
     "output_type": "execute_result"
    }
   ],
   "source": [
    "v0_mean_estimate"
   ]
  },
  {
   "cell_type": "code",
   "execution_count": 86,
   "metadata": {},
   "outputs": [
    {
     "data": {
      "text/plain": [
       "array([0.111, 1.28 , 0.107, 0.103, 0.102, 0.106, 0.111, 0.103, 0.105,\n",
       "       0.103])"
      ]
     },
     "execution_count": 86,
     "metadata": {},
     "output_type": "execute_result"
    }
   ],
   "source": [
    "v1_mean_estimate"
   ]
  },
  {
   "cell_type": "code",
   "execution_count": 83,
   "metadata": {},
   "outputs": [
    {
     "data": {
      "text/plain": [
       "0.14444444444444446"
      ]
     },
     "execution_count": 83,
     "metadata": {},
     "output_type": "execute_result"
    }
   ],
   "source": [
    "v0_angle[1]"
   ]
  },
  {
   "cell_type": "code",
   "execution_count": 84,
   "metadata": {},
   "outputs": [
    {
     "data": {
      "text/plain": [
       "0.5333333333333333"
      ]
     },
     "execution_count": 84,
     "metadata": {},
     "output_type": "execute_result"
    }
   ],
   "source": [
    "v1_angle[1]"
   ]
  },
  {
   "cell_type": "code",
   "execution_count": 18,
   "metadata": {},
   "outputs": [],
   "source": [
    "####S\n",
    "\n",
    "\n",
    "def spec1qubit(theta_0,theta_1,mu,sigma=0.1,N=1000):\n",
    "    error = np.random.normal(mu,sigma,N)\n",
    "    #theta_0=v0_angle[np.argmax(v0_mean_estimate)]\n",
    "    #theta_1=v1_angle[np.argmax(v1_mean_estimate)]\n",
    "    \n",
    "#     theta_0=-0.5*np.arctan((np.exp(-2*sigma**2)*np.sin(2*mu)-0.5+0.5*np.exp(-8*sigma**2)*np.cos(4*mu))/(np.exp(-2*sigma**2)*np.cos(2*mu)-0.25*np.exp(-8*sigma**2)*np.sin(4*mu)))\n",
    "#     theta_1=-0.5*np.arctan((np.exp(-2*sigma**2)*np.sin(2*mu)-0.5+0.5*np.exp(-8*sigma**2)*np.cos(4*mu))/(np.exp(-2*sigma**2)*np.cos(2*mu)+0.25*np.exp(-8*sigma**2)*np.sin(4*mu)))\n",
    "\n",
    "\n",
    "    theta_approx=(2/3)*alpha**2\n",
    "    outcome=np.zeros((N))\n",
    "    for i in range(N):\n",
    "        qr=QuantumRegister(1)\n",
    "        cr=ClassicalRegister(1)\n",
    "        specQ=QuantumCircuit(qr,cr)\n",
    "        specQ.h(qr[0])\n",
    "        specQ.rz(-error[i],qr[0])\n",
    "        #specQ.sdg(qr[0])\n",
    "        specQ.h(qr[0])\n",
    "        specQ.measure(qr[0],cr[0])\n",
    "        temp_1=execute(specQ,backend=BasicAer.get_backend('qasm_simulator'),shots=1)\n",
    "        temp_2=[*temp_1.result().get_counts().keys()]\n",
    "        temp_3=int(temp_2[0])\n",
    "        outcome[i]=temp_3\n",
    "    si=np.array([[1,0],[0,1]])\n",
    "    sz=np.array([[1,0],[0,-1]])\n",
    "    def szerror(theta):\n",
    "        return np.cos(theta/2)*si+1.j*np.sin(theta/2)*sz\n",
    "    processfid=np.zeros((N))\n",
    "    processfid_nocorrection=np.zeros((N))\n",
    "    processfid_avg_correction=np.zeros((N))\n",
    "    for i in range(N):\n",
    "        if (outcome[i]==0):\n",
    "            equiv=np.matmul(szerror(error[i]),szerror(theta_0))\n",
    "            processfid[i]=process_fidelity(equiv,si)\n",
    "        elif (outcome[i]==1):\n",
    "            equiv=np.matmul(szerror(error[i]),szerror(theta_1))\n",
    "            processfid[i]=process_fidelity(equiv,si)\n",
    "        processfid_nocorrection[i]=process_fidelity(szerror(error[i]),si)\n",
    "        processfid_avg_correction[i]=process_fidelity(np.matmul(szerror(error[i]),szerror(-mu)),si)\n",
    "    return np.mean(processfid), np.mean(processfid_nocorrection), np.mean(processfid_avg_correction)"
   ]
  },
  {
   "cell_type": "code",
   "execution_count": 19,
   "metadata": {},
   "outputs": [
    {
     "name": "stderr",
     "output_type": "stream",
     "text": [
      "\n",
      "\n",
      "  0%|          | 0/10 [00:00<?, ?it/s]\u001b[A\u001b[A/Users/swarnadeepmajumder/anaconda3/envs/qiskit/lib/python3.7/site-packages/ipykernel_launcher.py:38: ComplexWarning: Casting complex values to real discards the imaginary part\n",
      "/Users/swarnadeepmajumder/anaconda3/envs/qiskit/lib/python3.7/site-packages/ipykernel_launcher.py:42: ComplexWarning: Casting complex values to real discards the imaginary part\n",
      "/Users/swarnadeepmajumder/anaconda3/envs/qiskit/lib/python3.7/site-packages/ipykernel_launcher.py:43: ComplexWarning: Casting complex values to real discards the imaginary part\n",
      "/Users/swarnadeepmajumder/anaconda3/envs/qiskit/lib/python3.7/site-packages/ipykernel_launcher.py:41: ComplexWarning: Casting complex values to real discards the imaginary part\n",
      "\n",
      "\n",
      " 10%|█         | 1/10 [00:05<00:52,  5.86s/it]\u001b[A\u001b[A\n",
      "\n",
      " 20%|██        | 2/10 [00:11<00:46,  5.85s/it]\u001b[A\u001b[A\n",
      "\n",
      " 30%|███       | 3/10 [00:17<00:40,  5.84s/it]\u001b[A\u001b[A\n",
      "\n",
      " 40%|████      | 4/10 [00:23<00:35,  5.84s/it]\u001b[A\u001b[A\n",
      "\n",
      " 50%|█████     | 5/10 [00:29<00:29,  5.82s/it]\u001b[A\u001b[A\n",
      "\n",
      " 60%|██████    | 6/10 [00:35<00:23,  5.84s/it]\u001b[A\u001b[A\n",
      "\n",
      " 70%|███████   | 7/10 [00:40<00:17,  5.88s/it]\u001b[A\u001b[A\n",
      "\n",
      " 80%|████████  | 8/10 [00:46<00:11,  5.90s/it]\u001b[A\u001b[A\n",
      "\n",
      " 90%|█████████ | 9/10 [00:52<00:05,  5.91s/it]\u001b[A\u001b[A\n",
      "\n",
      "100%|██████████| 10/10 [00:58<00:00,  5.88s/it]\u001b[A\u001b[A\n"
     ]
    }
   ],
   "source": [
    "n=10\n",
    "\n",
    "alpha=np.linspace(0.1,1,n)\n",
    "processfid_final=np.zeros((len(alpha)))\n",
    "processfid_final_nocorrection=np.zeros((len(alpha)))\n",
    "processfid_final_avg_correction=np.zeros((len(alpha)))\n",
    "for i in trange(n):\n",
    "    processfid_final[i],processfid_final_nocorrection[i],processfid_final_avg_correction[i] =spec1qubit(estimates[i][0],estimates[i][1],alpha[i])"
   ]
  },
  {
   "cell_type": "code",
   "execution_count": 20,
   "metadata": {},
   "outputs": [
    {
     "data": {
      "text/plain": [
       "[<matplotlib.lines.Line2D at 0x12b554050>,\n",
       " <matplotlib.lines.Line2D at 0x12b429810>]"
      ]
     },
     "execution_count": 20,
     "metadata": {},
     "output_type": "execute_result"
    },
    {
     "data": {
      "image/png": "[encoded data removed]",
      "text/plain": [
       "<Figure size 432x288 with 1 Axes>"
      ]
     },
     "metadata": {
      "needs_background": "light"
     },
     "output_type": "display_data"
    }
   ],
   "source": [
    "plt.plot(alpha,processfid_final,'g.',alpha,processfid_final_nocorrection,'r.')"
   ]
  },
  {
   "cell_type": "code",
   "execution_count": 22,
   "metadata": {},
   "outputs": [
    {
     "data": {
      "text/plain": [
       "[<matplotlib.lines.Line2D at 0x12baeb9d0>,\n",
       " <matplotlib.lines.Line2D at 0x12b49c790>,\n",
       " <matplotlib.lines.Line2D at 0x12baebd90>]"
      ]
     },
     "execution_count": 22,
     "metadata": {},
     "output_type": "execute_result"
    },
    {
     "data": {
      "image/png": "[encoded data removed]",
      "text/plain": [
       "<Figure size 432x288 with 1 Axes>"
      ]
     },
     "metadata": {
      "needs_background": "light"
     },
     "output_type": "display_data"
    }
   ],
   "source": [
    "plt.plot(alpha,processfid_final,'g.',alpha,processfid_final_nocorrection,'r.',alpha,processfid_final_avg_correction,'b.')"
   ]
  },
  {
   "cell_type": "code",
   "execution_count": 24,
   "metadata": {},
   "outputs": [
    {
     "data": {
      "text/plain": [
       "[<matplotlib.lines.Line2D at 0x137a40990>,\n",
       " <matplotlib.lines.Line2D at 0x137a40c90>,\n",
       " <matplotlib.lines.Line2D at 0x137a40e50>]"
      ]
     },
     "execution_count": 24,
     "metadata": {},
     "output_type": "execute_result"
    },
    {
     "data": {
      "image/png": "[encoded data removed]",
      "text/plain": [
       "<Figure size 432x288 with 1 Axes>"
      ]
     },
     "metadata": {
      "needs_background": "light"
     },
     "output_type": "display_data"
    }
   ],
   "source": [
    "plt.plot(alpha,processfid_final,'g.',alpha,processfid_final_nocorrection,'r.',alpha,processfid_final_avg_correction,'b.')"
   ]
  },
  {
   "cell_type": "code",
   "execution_count": 118,
   "metadata": {},
   "outputs": [
    {
     "data": {
      "text/plain": [
       "[<matplotlib.lines.Line2D at 0x120971390>,\n",
       " <matplotlib.lines.Line2D at 0x120c69e48>,\n",
       " <matplotlib.lines.Line2D at 0x120c69240>]"
      ]
     },
     "execution_count": 118,
     "metadata": {},
     "output_type": "execute_result"
    },
    {
     "data": {
      "image/png": "[encoded data removed]",
      "text/plain": [
       "<Figure size 432x288 with 1 Axes>"
      ]
     },
     "metadata": {
      "needs_background": "light"
     },
     "output_type": "display_data"
    }
   ],
   "source": [
    "plt.plot(alpha,processfid_final,'g.',alpha,processfid_final_nocorrection,'r.',alpha,processfid_final_avg_correction,'b.')"
   ]
  },
  {
   "cell_type": "code",
   "execution_count": 122,
   "metadata": {},
   "outputs": [
    {
     "data": {
      "text/plain": [
       "[<matplotlib.lines.Line2D at 0x1232be6d8>,\n",
       " <matplotlib.lines.Line2D at 0x1232beac8>,\n",
       " <matplotlib.lines.Line2D at 0x1232c7550>]"
      ]
     },
     "execution_count": 122,
     "metadata": {},
     "output_type": "execute_result"
    },
    {
     "data": {
      "image/png": "[encoded data removed]",
      "text/plain": [
       "<Figure size 432x288 with 1 Axes>"
      ]
     },
     "metadata": {
      "needs_background": "light"
     },
     "output_type": "display_data"
    }
   ],
   "source": [
    "plt.plot(alpha,processfid_final,'g.',alpha,processfid_final_nocorrection,'r.',alpha,processfid_final_avg_correction,'b.')"
   ]
  },
  {
   "cell_type": "code",
   "execution_count": 108,
   "metadata": {},
   "outputs": [
    {
     "data": {
      "text/plain": [
       "[<matplotlib.lines.Line2D at 0x120e59860>,\n",
       " <matplotlib.lines.Line2D at 0x120e59400>,\n",
       " <matplotlib.lines.Line2D at 0x120e59cc0>]"
      ]
     },
     "execution_count": 108,
     "metadata": {},
     "output_type": "execute_result"
    },
    {
     "data": {
      "image/png": "[encoded data removed]",
      "text/plain": [
       "<Figure size 432x288 with 1 Axes>"
      ]
     },
     "metadata": {
      "needs_background": "light"
     },
     "output_type": "display_data"
    }
   ],
   "source": [
    "plt.plot(alpha,processfid_final,'g.',alpha,processfid_final_nocorrection,'r.',alpha,processfid_final_avg_correction,'b.')"
   ]
  },
  {
   "cell_type": "code",
   "execution_count": 86,
   "metadata": {},
   "outputs": [
    {
     "data": {
      "text/plain": [
       "[<matplotlib.lines.Line2D at 0x120b0e0b8>,\n",
       " <matplotlib.lines.Line2D at 0x120b0ea90>,\n",
       " <matplotlib.lines.Line2D at 0x11fb99ef0>,\n",
       " <matplotlib.lines.Line2D at 0x11fa730b8>]"
      ]
     },
     "execution_count": 86,
     "metadata": {},
     "output_type": "execute_result"
    },
    {
     "data": {
      "image/png": "[encoded data removed]",
      "text/plain": [
       "<Figure size 432x288 with 1 Axes>"
      ]
     },
     "metadata": {
      "needs_background": "light"
     },
     "output_type": "display_data"
    }
   ],
   "source": [
    "alpha=np.linspace(1,N,N)\n",
    "plt.plot(alpha,[np.mean(processfid_av)]*len(alpha),'y',alpha,[np.mean(processfid_nocorrection)]*len(alpha),'r',alpha,[np.mean(processfid)]*len(alpha),'g',alpha,[np.mean(processfid_im)]*len(alpha),'b')"
   ]
  },
  {
   "cell_type": "code",
   "execution_count": 33,
   "metadata": {},
   "outputs": [
    {
     "data": {
      "text/plain": [
       "[<matplotlib.lines.Line2D at 0x1200a13c8>]"
      ]
     },
     "execution_count": 33,
     "metadata": {},
     "output_type": "execute_result"
    },
    {
     "data": {
      "image/png": "[encoded data removed]",
      "text/plain": [
       "<Figure size 432x288 with 1 Axes>"
      ]
     },
     "metadata": {
      "needs_background": "light"
     },
     "output_type": "display_data"
    }
   ],
   "source": [
    "plt.plot([np.mean(processfid)]*len(alpha))"
   ]
  },
  {
   "cell_type": "code",
   "execution_count": 85,
   "metadata": {},
   "outputs": [
    {
     "name": "stderr",
     "output_type": "stream",
     "text": [
      "/Users/swarnadeepmajumder/miniconda3/lib/python3.7/site-packages/ipykernel_launcher.py:10: ComplexWarning: Casting complex values to real discards the imaginary part\n",
      "  # Remove the CWD from sys.path while we load stuff.\n",
      "/Users/swarnadeepmajumder/miniconda3/lib/python3.7/site-packages/ipykernel_launcher.py:16: ComplexWarning: Casting complex values to real discards the imaginary part\n",
      "  app.launch_new_instance()\n",
      "/Users/swarnadeepmajumder/miniconda3/lib/python3.7/site-packages/ipykernel_launcher.py:14: ComplexWarning: Casting complex values to real discards the imaginary part\n",
      "  \n"
     ]
    }
   ],
   "source": [
    "si=np.array([[1,0],[0,1]])\n",
    "sz=np.array([[1,0],[0,-1]])\n",
    "def szerror(theta):\n",
    "    return np.cos(theta/2)*si+1.j*np.sin(theta/2)*sz\n",
    "processfid=np.zeros((N))\n",
    "processfid_nocorrection=np.zeros((N))\n",
    "for i in range(N):\n",
    "    if (outcome[i]==0):\n",
    "        equiv=np.matmul(szerror(error[i]),szerror(v0_angle[np.argmax(v0_mean_estimate)]))\n",
    "        processfid[i]=process_fidelity(equiv,si)\n",
    "        #processfid[i]=np.trace(np.matmul(np.transpose(equiv),si))\n",
    "    elif (outcome[i]==1):\n",
    "        equiv=np.matmul(szerror(error[i]),szerror(v1_angle[np.argmax(v1_mean_estimate)]))\n",
    "        processfid[i]=process_fidelity(equiv,si)\n",
    "        #processfid[i]=np.trace(np.matmul(np.transpose(equiv),si))\n",
    "    processfid_nocorrection[i]=process_fidelity(szerror(error[i]),si)\n",
    "    #processfid_nocorrection[i]=np.trace(np.matmul(np.transpose(szerror(error[i])),si))\n",
    "    \n",
    "    "
   ]
  },
  {
   "cell_type": "code",
   "execution_count": 100,
   "metadata": {},
   "outputs": [
    {
     "name": "stderr",
     "output_type": "stream",
     "text": [
      "/Users/swarnadeepmajumder/miniconda3/lib/python3.7/site-packages/ipykernel_launcher.py:14: ComplexWarning: Casting complex values to real discards the imaginary part\n",
      "  \n",
      "/Users/swarnadeepmajumder/miniconda3/lib/python3.7/site-packages/ipykernel_launcher.py:20: ComplexWarning: Casting complex values to real discards the imaginary part\n",
      "/Users/swarnadeepmajumder/miniconda3/lib/python3.7/site-packages/ipykernel_launcher.py:18: ComplexWarning: Casting complex values to real discards the imaginary part\n"
     ]
    }
   ],
   "source": [
    "\n",
    "mu=0\n",
    "sigma=0.2\n",
    "theta_0=-0.5*np.arctan((np.exp(-2*sigma**2)*np.sin(2*mu)-0.5+0.5*np.exp(-8*sigma**2)*np.cos(4*mu))/(np.exp(-2*sigma**2)*np.cos(2*mu)-0.25*np.exp(-8*sigma**2)*np.sin(4*mu)))\n",
    "theta_1=-0.5*np.arctan((np.exp(-2*sigma**2)*np.sin(2*mu)-0.5+0.5*np.exp(-8*sigma**2)*np.cos(4*mu))/(np.exp(-2*sigma**2)*np.cos(2*mu)+0.25*np.exp(-8*sigma**2)*np.sin(4*mu)))\n",
    "\n",
    "def szerror(theta):\n",
    "    return np.cos(theta/2)*si+1.j*np.sin(theta/2)*sz\n",
    "processfid_im=np.zeros((N))\n",
    "processfid_nocorrection_im=np.zeros((N))\n",
    "for i in range(N):\n",
    "    if (outcome[i]==0):\n",
    "        equiv=np.matmul(szerror(error[i]),szerror(theta_0))\n",
    "        processfid_im[i]=process_fidelity(equiv,si)\n",
    "        #processfid[i]=np.trace(np.matmul(np.transpose(equiv),si))\n",
    "    elif (outcome[i]==1):\n",
    "        equiv=np.matmul(szerror(error[i]),szerror(theta_1))\n",
    "        processfid_im[i]=process_fidelity(equiv,si)\n",
    "        #processfid[i]=np.trace(np.matmul(np.transpose(equiv),si))\n",
    "    processfid_nocorrection_im[i]=process_fidelity(szerror(error[i]),si)\n",
    "    #processfid_nocorrection[i]=np.trace(np.matmul(np.transpose(szerror(error[i])),si))"
   ]
  },
  {
   "cell_type": "code",
   "execution_count": 101,
   "metadata": {},
   "outputs": [
    {
     "name": "stderr",
     "output_type": "stream",
     "text": [
      "/Users/swarnadeepmajumder/miniconda3/lib/python3.7/site-packages/ipykernel_launcher.py:13: ComplexWarning: Casting complex values to real discards the imaginary part\n",
      "  del sys.path[0]\n",
      "/Users/swarnadeepmajumder/miniconda3/lib/python3.7/site-packages/ipykernel_launcher.py:17: ComplexWarning: Casting complex values to real discards the imaginary part\n"
     ]
    }
   ],
   "source": [
    "mu=0\n",
    "sigma=0.2\n",
    "theta_0=-0.5*np.arctan((np.exp(-2*sigma**2)*np.sin(2*mu)-0.5+0.5*np.exp(-8*sigma**2)*np.cos(4*mu))/(np.exp(-2*sigma**2)*np.cos(2*mu)-0.25*np.exp(-8*sigma**2)*np.sin(4*mu)))\n",
    "theta_1=-0.5*np.arctan((np.exp(-2*sigma**2)*np.sin(2*mu)-0.5+0.5*np.exp(-8*sigma**2)*np.cos(4*mu))/(np.exp(-2*sigma**2)*np.cos(2*mu)+0.25*np.exp(-8*sigma**2)*np.sin(4*mu)))\n",
    "\n",
    "def szerror(theta):\n",
    "    return np.cos(theta/2)*si+1.j*np.sin(theta/2)*sz\n",
    "processfid_av=np.zeros((N))\n",
    "#processfid_nocorrection_im=np.zeros((N))\n",
    "for i in range(N):\n",
    "    if (outcome[i]==0):\n",
    "        equiv=np.matmul(szerror(error[i]),szerror(-mu))\n",
    "        processfid_av[i]=process_fidelity(equiv,si)\n",
    "        #processfid[i]=np.trace(np.matmul(np.transpose(equiv),si))\n",
    "    elif (outcome[i]==1):\n",
    "        equiv=np.matmul(szerror(error[i]),szerror(-mu))\n",
    "        processfid_av[i]=process_fidelity(equiv,si)\n",
    "        #processfid[i]=np.trace(np.matmul(np.transpose(equiv),si))\n",
    "    #processfid_nocorrection_im[i]=process_fidelity(szerror(error[i]),si)\n",
    "    #processfid_nocorrection[i]=np.trace(np.matmul(np.transpose(szerror(error[i])),si))"
   ]
  },
  {
   "cell_type": "code",
   "execution_count": 103,
   "metadata": {},
   "outputs": [
    {
     "data": {
      "text/plain": [
       "[<matplotlib.lines.Line2D at 0x120c77240>,\n",
       " <matplotlib.lines.Line2D at 0x120c77630>,\n",
       " <matplotlib.lines.Line2D at 0x12114b898>]"
      ]
     },
     "execution_count": 103,
     "metadata": {},
     "output_type": "execute_result"
    },
    {
     "data": {
      "image/png": "[encoded data removed]",
      "text/plain": [
       "<Figure size 432x288 with 1 Axes>"
      ]
     },
     "metadata": {
      "needs_background": "light"
     },
     "output_type": "display_data"
    }
   ],
   "source": [
    "alpha=np.linspace(1,N,N)\n",
    "plt.plot(alpha,[np.mean(processfid_av)]*len(alpha),'g',alpha,[np.mean(processfid_nocorrection)]*len(alpha),'r',alpha,[np.mean(processfid_im)]*len(alpha),'b')"
   ]
  },
  {
   "cell_type": "code",
   "execution_count": 20,
   "metadata": {},
   "outputs": [
    {
     "data": {
      "text/plain": [
       "array([[ 0.1       , -0.1       ],\n",
       "       [-0.15555556, -0.35555556],\n",
       "       [-0.27777778, -0.47777778],\n",
       "       [-0.31111111, -0.51111111],\n",
       "       [-0.3       , -0.5       ],\n",
       "       [-0.46666667, -0.66666667],\n",
       "       [-0.5       , -0.7       ],\n",
       "       [-0.64444444, -0.84444444],\n",
       "       [-0.85555556, -1.05555556],\n",
       "       [-0.84444444, -1.04444444]])"
      ]
     },
     "execution_count": 20,
     "metadata": {},
     "output_type": "execute_result"
    }
   ],
   "source": [
    "estimates"
   ]
  },
  {
   "cell_type": "code",
   "execution_count": 58,
   "metadata": {},
   "outputs": [
    {
     "data": {
      "text/plain": [
       "[<matplotlib.lines.Line2D at 0x13818e0d0>,\n",
       " <matplotlib.lines.Line2D at 0x13818ee10>]"
      ]
     },
     "execution_count": 58,
     "metadata": {},
     "output_type": "execute_result"
    },
    {
     "data": {
      "image/png": "[encoded data removed]",
      "text/plain": [
       "<Figure size 432x288 with 1 Axes>"
      ]
     },
     "metadata": {
      "needs_background": "light"
     },
     "output_type": "display_data"
    }
   ],
   "source": [
    "alpha=np.linspace(1,N,N)\n",
    "plt.plot(alpha,processfid_nocorrection,'r.',alpha,processfid_av,'g.')"
   ]
  },
  {
   "cell_type": "code",
   "execution_count": 126,
   "metadata": {},
   "outputs": [
    {
     "name": "stderr",
     "output_type": "stream",
     "text": [
      "/Users/swarnadeepmajumder/miniconda3/lib/python3.7/site-packages/ipykernel_launcher.py:11: ComplexWarning: Casting complex values to real discards the imaginary part\n",
      "  # This is added back by InteractiveShellApp.init_path()\n",
      "/Users/swarnadeepmajumder/miniconda3/lib/python3.7/site-packages/ipykernel_launcher.py:19: ComplexWarning: Casting complex values to real discards the imaginary part\n",
      "/Users/swarnadeepmajumder/miniconda3/lib/python3.7/site-packages/ipykernel_launcher.py:16: ComplexWarning: Casting complex values to real discards the imaginary part\n",
      "  app.launch_new_instance()\n"
     ]
    }
   ],
   "source": [
    "N=10000\n",
    "si=np.array([[1,0],[0,1]])\n",
    "sz=np.array([[1,0],[0,-1]])\n",
    "def szerror(theta):\n",
    "    return np.cos(theta/2)*si+1.j*np.sin(theta/2)*sz\n",
    "processfid_av=np.zeros((N))\n",
    "processfid_nocorrection=np.zeros((N))\n",
    "for i in range(N):\n",
    "    if (int(outcome[i])==0):\n",
    "        equiv=np.matmul(szerror(error[i]),szerror(v0_angle[np.argmax(v0_mean_estimate)]))\n",
    "        processfid_av[i]=process_fidelity(equiv,si)\n",
    "        #print(\"A\")\n",
    "        #processfid[i]=np.trace(np.matmul(np.transpose(equiv),si))\n",
    "    elif (int(outcome[i])==1):\n",
    "        equiv=np.matmul(szerror(error[i]),szerror(v1_angle[np.argmax(v1_mean_estimate)]))\n",
    "        processfid_av[i]=process_fidelity(equiv,si)\n",
    "        #print(\"B\")\n",
    "        #processfid[i]=np.trace(np.matmul(np.transpose(equiv),si))\n",
    "    processfid_nocorrection[i]=process_fidelity(szerror(error[i]),si)\n",
    "    #processfid_nocorrection[i]=np.trace(np.matmul(np.transpose(szerror(error[i])),si))"
   ]
  },
  {
   "cell_type": "markdown",
   "metadata": {},
   "source": [
    "Building time dependent multi arm bandit. \n",
    "1. Start with mostly exploring\n",
    "2. Then go to eph greedy mostly exploiting and some exploring.\n",
    "3. But keep track of how much our reward estimate is chaning (some kind of a derivative).\n",
    "4. If the change is above some thresold (means we need to go back to exploration).\n",
    "5. Adaptive action space quantization can probably help too. \n",
    "repeat step 1"
   ]
  },
  {
   "cell_type": "code",
   "execution_count": 45,
   "metadata": {},
   "outputs": [
    {
     "data": {
      "text/plain": [
       "0"
      ]
     },
     "execution_count": 45,
     "metadata": {},
     "output_type": "execute_result"
    }
   ],
   "source": [
    "int(outcome[9][1])"
   ]
  },
  {
   "cell_type": "code",
   "execution_count": 124,
   "metadata": {},
   "outputs": [
    {
     "data": {
      "text/plain": [
       "[<matplotlib.lines.Line2D at 0x126f71c18>]"
      ]
     },
     "execution_count": 124,
     "metadata": {},
     "output_type": "execute_result"
    },
    {
     "data": {
      "image/png": "[encoded data removed]",
      "text/plain": [
       "<Figure size 432x288 with 1 Axes>"
      ]
     },
     "metadata": {
      "needs_background": "light"
     },
     "output_type": "display_data"
    }
   ],
   "source": [
    "plt.plot(processfid_av)"
   ]
  },
  {
   "cell_type": "code",
   "execution_count": 125,
   "metadata": {},
   "outputs": [
    {
     "data": {
      "text/plain": [
       "[<matplotlib.lines.Line2D at 0x126f73978>]"
      ]
     },
     "execution_count": 125,
     "metadata": {},
     "output_type": "execute_result"
    },
    {
     "data": {
      "image/png": "[encoded data removed]",
      "text/plain": [
       "<Figure size 432x288 with 1 Axes>"
      ]
     },
     "metadata": {
      "needs_background": "light"
     },
     "output_type": "display_data"
    }
   ],
   "source": [
    "plt.plot(processfid_nocorrection)"
   ]
  },
  {
   "cell_type": "code",
   "execution_count": 158,
   "metadata": {},
   "outputs": [],
   "source": [
    "N=10000\n",
    "error = np.random.normal(0.5,0.1,N)"
   ]
  },
  {
   "cell_type": "code",
   "execution_count": 159,
   "metadata": {},
   "outputs": [
    {
     "name": "stderr",
     "output_type": "stream",
     "text": [
      "/Users/swarnadeepmajumder/miniconda3/lib/python3.7/site-packages/ipykernel_launcher.py:81: ComplexWarning: Casting complex values to real discards the imaginary part\n",
      "/Users/swarnadeepmajumder/miniconda3/lib/python3.7/site-packages/ipykernel_launcher.py:88: ComplexWarning: Casting complex values to real discards the imaginary part\n",
      "/Users/swarnadeepmajumder/miniconda3/lib/python3.7/site-packages/ipykernel_launcher.py:85: ComplexWarning: Casting complex values to real discards the imaginary part\n"
     ]
    }
   ],
   "source": [
    "###Choosing the best arm\n",
    "#N=10000\n",
    "#error = np.random.normal(0.5,0.1,N)\n",
    "outcome=np.zeros((N))\n",
    "arm=20\n",
    "v0_angle = -np.linspace(0,1,arm)\n",
    "v1_angle = -np.linspace(0,1,arm)\n",
    "v0_mean_estimate = np.ones(arm)/arm\n",
    "v1_mean_estimate = np.ones(arm)/arm\n",
    "processfid=np.zeros((N))\n",
    "processfid_nocorrection=np.zeros((N))\n",
    "for i in range(N):\n",
    "    qr_s1=QuantumRegister(1)\n",
    "    qr_s2=QuantumRegister(1)\n",
    "    cr_s1=ClassicalRegister(1)\n",
    "    cr_s2=ClassicalRegister(1)\n",
    "    specQ_s1=QuantumCircuit(qr_s1,cr_s1)\n",
    "    specQ_s2=QuantumCircuit(qr_s2,cr_s2)\n",
    "\n",
    "    specQ_s1.h(qr_s1)\n",
    "    specQ_s2.h(qr_s2)\n",
    "\n",
    "    #specQ_data.rz(error[i],qr_data)\n",
    "    specQ_s1.rz(error[i],qr_s1)\n",
    "    specQ_s2.rz(error[i],qr_s2)\n",
    "\n",
    "    #specQ_s1.sdg(qr_s1)\n",
    "    specQ_s1.h(qr_s1)\n",
    "\n",
    "    specQ_s1.measure(qr_s1,cr_s1)\n",
    "    temp_1=execute(specQ_s1,backend=BasicAer.get_backend('qasm_simulator'),shots=1)\n",
    "    temp_2=[*temp_1.result().get_counts().keys()]\n",
    "    temp_3=int(temp_2[0])\n",
    "    outcome[i]=temp_3\n",
    "    #contextual multi-arm bandit\n",
    "    #print(\"Fisrt measurement:\",temp_3)\n",
    "\n",
    "    \n",
    "    #uniformly explore\n",
    "    if (temp_3 == 0):\n",
    "        #choose action unfiformly at random\n",
    "        a = random.randint(0,arm-1)\n",
    "\n",
    "        specQ_s2.rz(v0_angle[a],qr_s2)\n",
    "\n",
    "    elif (temp_3 == 1):\n",
    "        #choose action uniformly at random\n",
    "        a = random.randint(0,arm-1)\n",
    "        specQ_s2.rz(v1_angle[a],qr_s2)\n",
    "    \n",
    "    #get reward by applying the action on s2\n",
    "    #specQ_s2.sdg(qr_s2)\n",
    "    specQ_s2.h(qr_s2)\n",
    "    specQ_s2.measure(qr_s2,cr_s2)\n",
    "    temp_4=execute(specQ_s2,backend=BasicAer.get_backend('qasm_simulator'),shots=1)\n",
    "    temp_5=[*temp_4.result().get_counts().keys()]\n",
    "    temp_6=int(temp_5[0])\n",
    "    #print(\"Second spector meas\",temp_6)\n",
    "    #update estimate of the arm\n",
    "    if (temp_6 == 0):\n",
    "        if (temp_3 ==0):\n",
    "            v0_mean_estimate[a]=v0_mean_estimate[a]+0.1\n",
    "        elif (temp_3 ==1):\n",
    "            v0_mean_estimate[a]=v0_mean_estimate[a]-0.1\n",
    "    elif (temp_6 == 1):\n",
    "        if (temp_3==0):\n",
    "            v1_mean_estimate[a]=v1_mean_estimate[a]+0.1\n",
    "        elif (temp_3==1):\n",
    "            v1_mean_estimate[a]=v1_mean_estimate[a]-0.1\n",
    "\n",
    "    #measure the process fidelity on data\n",
    "    si=np.array([[1,0],[0,1]])\n",
    "    sz=np.array([[1,0],[0,-1]])\n",
    "    def szerror(theta):\n",
    "        return np.cos(theta/2)*si+1.j*np.sin(theta/2)*sz\n",
    "\n",
    "\n",
    "    if (int(temp_3)==0):\n",
    "        equiv=np.matmul(szerror(error[i]),szerror(v0_angle[a]))\n",
    "        #print(\"A\")\n",
    "        processfid[i]=process_fidelity(equiv,si)\n",
    "            #processfid[i]=np.trace(np.matmul(np.transpose(equiv),si))\n",
    "    elif (int(temp_3)==1):\n",
    "        equiv=np.matmul(szerror(error[i]),szerror(v1_angle[a]))\n",
    "        processfid[i]=process_fidelity(equiv,si)\n",
    "        #print(\"B\")\n",
    "            #processfid[i]=np.trace(np.matmul(np.transpose(equiv),si))\n",
    "    processfid_nocorrection[i]=process_fidelity(szerror(error[i]),si)\n",
    "        #processfid_nocorrection[i]=np.trace(np.matmul(np.transpose(szerror(error[i])),si))\n",
    "\n",
    "\n",
    "\n",
    "    \n",
    "        \n",
    "        \n",
    "    \n",
    "    \n",
    "    \n",
    "    \n",
    "\n",
    "\n"
   ]
  },
  {
   "cell_type": "code",
   "execution_count": 161,
   "metadata": {},
   "outputs": [
    {
     "data": {
      "text/plain": [
       "array([1.75, 2.55, 1.85, 1.65, 1.15, 1.05, 0.45, 0.15, 0.25, 0.15, 0.35,\n",
       "       0.45, 0.45, 0.25, 0.85, 0.95, 1.95, 2.35, 1.45, 1.95])"
      ]
     },
     "execution_count": 161,
     "metadata": {},
     "output_type": "execute_result"
    }
   ],
   "source": [
    "v1_mean_estimate"
   ]
  },
  {
   "cell_type": "code",
   "execution_count": 162,
   "metadata": {},
   "outputs": [
    {
     "data": {
      "text/plain": [
       "-0.5789473684210527"
      ]
     },
     "execution_count": 162,
     "metadata": {},
     "output_type": "execute_result"
    }
   ],
   "source": [
    "v0_angle[np.argmax(v0_mean_estimate)]"
   ]
  },
  {
   "cell_type": "code",
   "execution_count": 163,
   "metadata": {},
   "outputs": [
    {
     "data": {
      "text/plain": [
       "-0.05263157894736842"
      ]
     },
     "execution_count": 163,
     "metadata": {},
     "output_type": "execute_result"
    }
   ],
   "source": [
    "v1_angle[np.argmax(v1_mean_estimate)]"
   ]
  },
  {
   "cell_type": "code",
   "execution_count": 115,
   "metadata": {},
   "outputs": [
    {
     "data": {
      "text/plain": [
       "array([0.0502, 0.0503, 0.0502, 0.0509, 0.0506, 0.0503, 0.0505, 0.0504,\n",
       "       0.0509, 0.0513, 0.0507, 0.0513, 0.0508, 0.0515, 0.051 , 0.0509,\n",
       "       0.0516, 0.0526, 0.0528, 0.0518])"
      ]
     },
     "execution_count": 115,
     "metadata": {},
     "output_type": "execute_result"
    }
   ],
   "source": [
    "v1_mean_estimate"
   ]
  },
  {
   "cell_type": "code",
   "execution_count": 116,
   "metadata": {},
   "outputs": [
    {
     "data": {
      "text/plain": [
       "array([0.0537, 0.0544, 0.0537, 0.0534, 0.0531, 0.0538, 0.0535, 0.0537,\n",
       "       0.0538, 0.0536, 0.0533, 0.0529, 0.0535, 0.0526, 0.0526, 0.0534,\n",
       "       0.0531, 0.0523, 0.0513, 0.0519])"
      ]
     },
     "execution_count": 116,
     "metadata": {},
     "output_type": "execute_result"
    }
   ],
   "source": [
    "v0_mean_estimate"
   ]
  },
  {
   "cell_type": "code",
   "execution_count": 129,
   "metadata": {},
   "outputs": [],
   "source": [
    "v0_angle = -np.linspace(0,0.5,2)"
   ]
  },
  {
   "cell_type": "code",
   "execution_count": 130,
   "metadata": {},
   "outputs": [
    {
     "data": {
      "text/plain": [
       "array([-0. , -0.5])"
      ]
     },
     "execution_count": 130,
     "metadata": {},
     "output_type": "execute_result"
    }
   ],
   "source": [
    "v0_angle"
   ]
  },
  {
   "cell_type": "code",
   "execution_count": 33,
   "metadata": {},
   "outputs": [],
   "source": [
    "t=np.linspace(0,4*np.pi,1000)\n",
    "x=np.sin(10*t)"
   ]
  },
  {
   "cell_type": "code",
   "execution_count": 34,
   "metadata": {},
   "outputs": [
    {
     "data": {
      "text/plain": [
       "(array([205.,  90.,  74.,  66.,  65.,  65.,  66.,  74.,  90., 205.]),\n",
       " array([-0.99999876, -0.79999901, -0.59999926, -0.39999951, -0.19999975,\n",
       "         0.        ,  0.19999975,  0.39999951,  0.59999926,  0.79999901,\n",
       "         0.99999876]),\n",
       " <a list of 10 Patch objects>)"
      ]
     },
     "execution_count": 34,
     "metadata": {},
     "output_type": "execute_result"
    },
    {
     "data": {
      "image/png": "[encoded data removed]",
      "text/plain": [
       "<Figure size 432x288 with 1 Axes>"
      ]
     },
     "metadata": {
      "needs_background": "light"
     },
     "output_type": "display_data"
    }
   ],
   "source": [
    "plt.hist(x)"
   ]
  },
  {
   "cell_type": "code",
   "execution_count": null,
   "metadata": {},
   "outputs": [],
   "source": []
  }
 ],
 "metadata": {
  "kernelspec": {
   "display_name": "Python 3",
   "language": "python",
   "name": "python3"
  },
  "language_info": {
   "codemirror_mode": {
    "name": "ipython",
    "version": 3
   },
   "file_extension": ".py",
   "mimetype": "text/x-python",
   "name": "python",
   "nbconvert_exporter": "python",
   "pygments_lexer": "ipython3",
   "version": "3.6.4"
  }
 },
 "nbformat": 4,
 "nbformat_minor": 2
}
